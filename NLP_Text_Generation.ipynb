{
  "nbformat": 4,
  "nbformat_minor": 0,
  "metadata": {
    "colab": {
      "name": "NLP-Text-Generation.ipynb",
      "provenance": [],
      "collapsed_sections": [],
      "authorship_tag": "ABX9TyNdUmxrvjeG7Tam3ZLoelrh",
      "include_colab_link": true
    },
    "kernelspec": {
      "name": "python3",
      "display_name": "Python 3"
    },
    "language_info": {
      "name": "python"
    }
  },
  "cells": [
    {
      "cell_type": "markdown",
      "metadata": {
        "id": "view-in-github",
        "colab_type": "text"
      },
      "source": [
        "<a href=\"https://colab.research.google.com/github/mr-alamdari/NLP-Text-Generation/blob/main/NLP_Text_Generation.ipynb\" target=\"_parent\"><img src=\"https://colab.research.google.com/assets/colab-badge.svg\" alt=\"Open In Colab\"/></a>"
      ]
    },
    {
      "cell_type": "code",
      "execution_count": 1,
      "metadata": {
        "id": "RI_jcozpCSkG"
      },
      "outputs": [],
      "source": [
        "import numpy as np\n",
        "import spacy"
      ]
    },
    {
      "cell_type": "code",
      "source": [
        "def read_file(path):\n",
        "  with open(path) as f:\n",
        "    my_str = f.read()\n",
        "  return my_str"
      ],
      "metadata": {
        "id": "tXbO-eV8DTlE"
      },
      "execution_count": 2,
      "outputs": []
    },
    {
      "cell_type": "code",
      "source": [
        "!wget https://raw.githubusercontent.com/mr-alamdari/NLP-Text-Generation/main/moby_dick_four_chapters.txt"
      ],
      "metadata": {
        "colab": {
          "base_uri": "https://localhost:8080/"
        },
        "id": "APaNWzndLmWz",
        "outputId": "c28c1250-cbfe-4967-921c-d34c377c42e7"
      },
      "execution_count": 3,
      "outputs": [
        {
          "output_type": "stream",
          "name": "stdout",
          "text": [
            "--2022-05-02 04:47:50--  https://raw.githubusercontent.com/mr-alamdari/NLP-Text-Generation/main/moby_dick_four_chapters.txt\n",
            "Resolving raw.githubusercontent.com (raw.githubusercontent.com)... 185.199.108.133, 185.199.109.133, 185.199.110.133, ...\n",
            "Connecting to raw.githubusercontent.com (raw.githubusercontent.com)|185.199.108.133|:443... connected.\n",
            "HTTP request sent, awaiting response... 200 OK\n",
            "Length: 62685 (61K) [text/plain]\n",
            "Saving to: ‘moby_dick_four_chapters.txt’\n",
            "\n",
            "moby_dick_four_chap 100%[===================>]  61.22K  --.-KB/s    in 0.004s  \n",
            "\n",
            "2022-05-02 04:47:50 (15.7 MB/s) - ‘moby_dick_four_chapters.txt’ saved [62685/62685]\n",
            "\n"
          ]
        }
      ]
    },
    {
      "cell_type": "code",
      "source": [
        "mobydic = read_file('moby_dick_four_chapters.txt')"
      ],
      "metadata": {
        "id": "cAHX5_zpMHcR"
      },
      "execution_count": 4,
      "outputs": []
    },
    {
      "cell_type": "code",
      "source": [
        "nlp = spacy.load('en', disable=['parser', 'tagger', 'ner'])"
      ],
      "metadata": {
        "id": "86o5KMUtMMU9"
      },
      "execution_count": 5,
      "outputs": []
    },
    {
      "cell_type": "code",
      "source": [
        "nlp.max_length = 1198623"
      ],
      "metadata": {
        "id": "haHP59oAMaxi"
      },
      "execution_count": 6,
      "outputs": []
    },
    {
      "cell_type": "code",
      "source": [
        "seperate_punc = lambda doc: [token.text.lower() for token in nlp(doc) if token.text not in '\\n\\n \\n\\n\\n!\"-#$%&()--.*+,-/:;<=>?@[\\\\]^_`{|}~\\t\\n']"
      ],
      "metadata": {
        "id": "qJeXlTZqMfQ5"
      },
      "execution_count": 7,
      "outputs": []
    },
    {
      "cell_type": "code",
      "source": [
        "tokens = seperate_punc(mobydic)"
      ],
      "metadata": {
        "id": "fd8pOF7tNJ2i"
      },
      "execution_count": 8,
      "outputs": []
    },
    {
      "cell_type": "code",
      "source": [
        "tokens[:20]"
      ],
      "metadata": {
        "colab": {
          "base_uri": "https://localhost:8080/"
        },
        "id": "Xr6zfeu4OR1F",
        "outputId": "c1ae962c-7e39-4d27-d02b-a008277abfce"
      },
      "execution_count": 9,
      "outputs": [
        {
          "output_type": "execute_result",
          "data": {
            "text/plain": [
              "['call',\n",
              " 'me',\n",
              " 'ishmael',\n",
              " 'some',\n",
              " 'years',\n",
              " 'ago',\n",
              " 'never',\n",
              " 'mind',\n",
              " 'how',\n",
              " 'long',\n",
              " 'precisely',\n",
              " 'having',\n",
              " 'little',\n",
              " 'or',\n",
              " 'no',\n",
              " 'money',\n",
              " 'in',\n",
              " 'my',\n",
              " 'purse',\n",
              " 'and']"
            ]
          },
          "metadata": {},
          "execution_count": 9
        }
      ]
    },
    {
      "cell_type": "code",
      "source": [
        "len(tokens)"
      ],
      "metadata": {
        "colab": {
          "base_uri": "https://localhost:8080/"
        },
        "id": "lVAMB0NxOXbP",
        "outputId": "ea9b8dea-9bd9-4952-bae1-efb292447d16"
      },
      "execution_count": 10,
      "outputs": [
        {
          "output_type": "execute_result",
          "data": {
            "text/plain": [
              "11338"
            ]
          },
          "metadata": {},
          "execution_count": 10
        }
      ]
    },
    {
      "cell_type": "code",
      "source": [
        "train_len = 25 + 1 # 25 training words , then one target word\n",
        "\n",
        "text_sequences = [tokens[i-train_len: i] for i in range(train_len, len(tokens))]"
      ],
      "metadata": {
        "id": "XL8YjU2COZSH"
      },
      "execution_count": 11,
      "outputs": []
    },
    {
      "cell_type": "code",
      "source": [
        "' '.join(text_sequences[0])"
      ],
      "metadata": {
        "colab": {
          "base_uri": "https://localhost:8080/",
          "height": 53
        },
        "id": "Y0v8PDafPPqj",
        "outputId": "5b01180d-d09f-43da-a225-8e04d7a5866a"
      },
      "execution_count": 12,
      "outputs": [
        {
          "output_type": "execute_result",
          "data": {
            "text/plain": [
              "'call me ishmael some years ago never mind how long precisely having little or no money in my purse and nothing particular to interest me on'"
            ],
            "application/vnd.google.colaboratory.intrinsic+json": {
              "type": "string"
            }
          },
          "metadata": {},
          "execution_count": 12
        }
      ]
    },
    {
      "cell_type": "code",
      "source": [
        "' '.join(text_sequences[1])"
      ],
      "metadata": {
        "colab": {
          "base_uri": "https://localhost:8080/",
          "height": 53
        },
        "id": "jUXGwHtdPS9v",
        "outputId": "b2a88efb-e4e0-4397-bc62-d611368023e6"
      },
      "execution_count": 13,
      "outputs": [
        {
          "output_type": "execute_result",
          "data": {
            "text/plain": [
              "'me ishmael some years ago never mind how long precisely having little or no money in my purse and nothing particular to interest me on shore'"
            ],
            "application/vnd.google.colaboratory.intrinsic+json": {
              "type": "string"
            }
          },
          "metadata": {},
          "execution_count": 13
        }
      ]
    },
    {
      "cell_type": "code",
      "source": [
        "' '.join(text_sequences[2])"
      ],
      "metadata": {
        "colab": {
          "base_uri": "https://localhost:8080/",
          "height": 53
        },
        "id": "t-y62vtIPVAu",
        "outputId": "5a8f1641-bc1b-4d99-9e36-fb4312acf214"
      },
      "execution_count": 14,
      "outputs": [
        {
          "output_type": "execute_result",
          "data": {
            "text/plain": [
              "'ishmael some years ago never mind how long precisely having little or no money in my purse and nothing particular to interest me on shore i'"
            ],
            "application/vnd.google.colaboratory.intrinsic+json": {
              "type": "string"
            }
          },
          "metadata": {},
          "execution_count": 14
        }
      ]
    },
    {
      "cell_type": "code",
      "source": [
        "' '.join(text_sequences[3])"
      ],
      "metadata": {
        "colab": {
          "base_uri": "https://localhost:8080/",
          "height": 53
        },
        "id": "RtJ-Ma-CPWQm",
        "outputId": "895ff3f6-2e84-4e74-efcd-01876ee906a9"
      },
      "execution_count": 15,
      "outputs": [
        {
          "output_type": "execute_result",
          "data": {
            "text/plain": [
              "'some years ago never mind how long precisely having little or no money in my purse and nothing particular to interest me on shore i thought'"
            ],
            "application/vnd.google.colaboratory.intrinsic+json": {
              "type": "string"
            }
          },
          "metadata": {},
          "execution_count": 15
        }
      ]
    },
    {
      "cell_type": "code",
      "source": [
        "import tensorflow as tf"
      ],
      "metadata": {
        "id": "ZILcMszCPYGW"
      },
      "execution_count": 16,
      "outputs": []
    },
    {
      "cell_type": "code",
      "source": [
        "tokenizer = tf.keras.preprocessing.text.Tokenizer()"
      ],
      "metadata": {
        "id": "KzA8jCL1P1ND"
      },
      "execution_count": 17,
      "outputs": []
    },
    {
      "cell_type": "code",
      "source": [
        "tokenizer.fit_on_texts(text_sequences)"
      ],
      "metadata": {
        "id": "Ob0Vvjb6P7_c"
      },
      "execution_count": 18,
      "outputs": []
    },
    {
      "cell_type": "code",
      "source": [
        "sequences = tokenizer.texts_to_sequences(text_sequences)"
      ],
      "metadata": {
        "id": "0VkIxCAKQCOt"
      },
      "execution_count": 19,
      "outputs": []
    },
    {
      "cell_type": "code",
      "source": [
        "sequences = np.array(sequences)"
      ],
      "metadata": {
        "id": "E5wpsIKCSDtO"
      },
      "execution_count": 20,
      "outputs": []
    },
    {
      "cell_type": "code",
      "source": [
        "print(sequences[0])"
      ],
      "metadata": {
        "colab": {
          "base_uri": "https://localhost:8080/"
        },
        "id": "3V2xV_5VQKpD",
        "outputId": "0e9159a9-adf8-415b-8088-2abe06174d2d"
      },
      "execution_count": 21,
      "outputs": [
        {
          "output_type": "stream",
          "name": "stdout",
          "text": [
            "[ 956   14  263   51  261  408   87  219  129  111  954  260   50   43\n",
            "   38  315    7   23  546    3  150  259    6 2712   14   24]\n"
          ]
        }
      ]
    },
    {
      "cell_type": "code",
      "source": [
        "print(sequences[1])"
      ],
      "metadata": {
        "colab": {
          "base_uri": "https://localhost:8080/"
        },
        "id": "dNDJsDy6QPtg",
        "outputId": "2c2917ca-7972-45bd-d63b-8137e1f7618f"
      },
      "execution_count": 22,
      "outputs": [
        {
          "output_type": "stream",
          "name": "stdout",
          "text": [
            "[  14  263   51  261  408   87  219  129  111  954  260   50   43   38\n",
            "  315    7   23  546    3  150  259    6 2712   14   24  957]\n"
          ]
        }
      ]
    },
    {
      "cell_type": "code",
      "source": [
        "print(sequences[2])"
      ],
      "metadata": {
        "colab": {
          "base_uri": "https://localhost:8080/"
        },
        "id": "TdvYQNAJQZfy",
        "outputId": "09e76def-7b9e-4960-ba2c-5cf575e85c8f"
      },
      "execution_count": 23,
      "outputs": [
        {
          "output_type": "stream",
          "name": "stdout",
          "text": [
            "[ 263   51  261  408   87  219  129  111  954  260   50   43   38  315\n",
            "    7   23  546    3  150  259    6 2712   14   24  957    5]\n"
          ]
        }
      ]
    },
    {
      "cell_type": "code",
      "source": [
        "print(sequences[3])"
      ],
      "metadata": {
        "colab": {
          "base_uri": "https://localhost:8080/"
        },
        "id": "Gcp9dZBlQhF_",
        "outputId": "642fb030-5356-4e86-a3fe-d940904b5bf9"
      },
      "execution_count": 24,
      "outputs": [
        {
          "output_type": "stream",
          "name": "stdout",
          "text": [
            "[  51  261  408   87  219  129  111  954  260   50   43   38  315    7\n",
            "   23  546    3  150  259    6 2712   14   24  957    5   60]\n"
          ]
        }
      ]
    },
    {
      "cell_type": "code",
      "source": [
        "for i in sequences[0]:\n",
        "  print(i, tokenizer.index_word[i])"
      ],
      "metadata": {
        "colab": {
          "base_uri": "https://localhost:8080/"
        },
        "id": "Hn7ThErxQiE3",
        "outputId": "1ee82f9a-dff7-4afb-a282-9200fe0a29fa"
      },
      "execution_count": 25,
      "outputs": [
        {
          "output_type": "stream",
          "name": "stdout",
          "text": [
            "956 call\n",
            "14 me\n",
            "263 ishmael\n",
            "51 some\n",
            "261 years\n",
            "408 ago\n",
            "87 never\n",
            "219 mind\n",
            "129 how\n",
            "111 long\n",
            "954 precisely\n",
            "260 having\n",
            "50 little\n",
            "43 or\n",
            "38 no\n",
            "315 money\n",
            "7 in\n",
            "23 my\n",
            "546 purse\n",
            "3 and\n",
            "150 nothing\n",
            "259 particular\n",
            "6 to\n",
            "2712 interest\n",
            "14 me\n",
            "24 on\n"
          ]
        }
      ]
    },
    {
      "cell_type": "code",
      "source": [
        "for i, count in enumerate(sorted(tokenizer.word_counts.items(), key=lambda x: -x[1])):\n",
        "  if i == 20:\n",
        "    break\n",
        "  print(i, count)"
      ],
      "metadata": {
        "colab": {
          "base_uri": "https://localhost:8080/"
        },
        "id": "S9h2BpwSQkJP",
        "outputId": "7f5f1237-d671-4cb5-9425-676b20fcdb48"
      },
      "execution_count": 26,
      "outputs": [
        {
          "output_type": "stream",
          "name": "stdout",
          "text": [
            "0 ('the', 15540)\n",
            "1 ('a', 10377)\n",
            "2 ('and', 9646)\n",
            "3 ('of', 8287)\n",
            "4 ('i', 7150)\n",
            "5 ('to', 6497)\n",
            "6 ('in', 5647)\n",
            "7 ('it', 4238)\n",
            "8 ('that', 3770)\n",
            "9 ('he', 3247)\n",
            "10 ('his', 3139)\n",
            "11 ('was', 2886)\n",
            "12 ('but', 2652)\n",
            "13 ('me', 2471)\n",
            "14 ('with', 2392)\n",
            "15 ('as', 2366)\n",
            "16 ('at', 2184)\n",
            "17 ('this', 2158)\n",
            "18 ('you', 2158)\n",
            "19 ('is', 1950)\n"
          ]
        }
      ]
    },
    {
      "cell_type": "code",
      "source": [
        "vocab_size=len(tokenizer.word_counts)"
      ],
      "metadata": {
        "id": "evu-ezjARN85"
      },
      "execution_count": 27,
      "outputs": []
    },
    {
      "cell_type": "code",
      "source": [
        "vocab_size"
      ],
      "metadata": {
        "colab": {
          "base_uri": "https://localhost:8080/"
        },
        "id": "bcNKQxuoR8vi",
        "outputId": "9b5b68fd-cff6-4c53-89d5-2b17a325b949"
      },
      "execution_count": 28,
      "outputs": [
        {
          "output_type": "execute_result",
          "data": {
            "text/plain": [
              "2717"
            ]
          },
          "metadata": {},
          "execution_count": 28
        }
      ]
    },
    {
      "cell_type": "code",
      "source": [
        "x = sequences[:, :-1]"
      ],
      "metadata": {
        "id": "xfuppMV4hD6r"
      },
      "execution_count": 29,
      "outputs": []
    },
    {
      "cell_type": "code",
      "source": [
        "y = sequences[:, -1]"
      ],
      "metadata": {
        "id": "4teFrSvshGrr"
      },
      "execution_count": 30,
      "outputs": []
    },
    {
      "cell_type": "code",
      "source": [
        "y = tf.keras.utils.to_categorical(y, num_classes=vocab_size+1)"
      ],
      "metadata": {
        "id": "eckFK4icR9sz"
      },
      "execution_count": 31,
      "outputs": []
    },
    {
      "cell_type": "code",
      "source": [
        "seq_len = x.shape[1]"
      ],
      "metadata": {
        "id": "xwmmMyiMhM57"
      },
      "execution_count": 32,
      "outputs": []
    },
    {
      "cell_type": "code",
      "source": [
        "def create_model(vocab_size, seq_len):\n",
        "  model = tf.keras.models.Sequential()\n",
        "  model.add(tf.keras.layers.Embedding(vocab_size, seq_len, input_length=seq_len))\n",
        "  model.add(tf.keras.layers.LSTM(seq_len, return_sequences=True))\n",
        "  model.add(tf.keras.layers.LSTM(seq_len))\n",
        "  model.add(tf.keras.layers.Dense(seq_len, activation='relu'))\n",
        "  model.add(tf.keras.layers.Dense(vocab_size, activation='softmax'))\n",
        "  model.compile(loss='categorical_crossentropy',\n",
        "                optimizer = 'adam',\n",
        "                metrics = ['accuracy'])\n",
        "\n",
        "  model.summary()\n",
        "  return model"
      ],
      "metadata": {
        "id": "aFkT3a2mhYwu"
      },
      "execution_count": 33,
      "outputs": []
    },
    {
      "cell_type": "code",
      "source": [
        "model = create_model(vocab_size+1, seq_len)"
      ],
      "metadata": {
        "colab": {
          "base_uri": "https://localhost:8080/"
        },
        "id": "zMsPblA2ijXA",
        "outputId": "4a24d7f1-ba25-418c-865c-25c7a9ed1e01"
      },
      "execution_count": 34,
      "outputs": [
        {
          "output_type": "stream",
          "name": "stdout",
          "text": [
            "Model: \"sequential\"\n",
            "_________________________________________________________________\n",
            " Layer (type)                Output Shape              Param #   \n",
            "=================================================================\n",
            " embedding (Embedding)       (None, 25, 25)            67950     \n",
            "                                                                 \n",
            " lstm (LSTM)                 (None, 25, 25)            5100      \n",
            "                                                                 \n",
            " lstm_1 (LSTM)               (None, 25)                5100      \n",
            "                                                                 \n",
            " dense (Dense)               (None, 25)                650       \n",
            "                                                                 \n",
            " dense_1 (Dense)             (None, 2718)              70668     \n",
            "                                                                 \n",
            "=================================================================\n",
            "Total params: 149,468\n",
            "Trainable params: 149,468\n",
            "Non-trainable params: 0\n",
            "_________________________________________________________________\n"
          ]
        }
      ]
    },
    {
      "cell_type": "code",
      "source": [
        "from pickle import dump, load"
      ],
      "metadata": {
        "id": "vHmiENS8in9p"
      },
      "execution_count": 35,
      "outputs": []
    },
    {
      "cell_type": "code",
      "source": [
        "model.fit(x, y, batch_size=32, epochs=100, verbose=2)"
      ],
      "metadata": {
        "colab": {
          "base_uri": "https://localhost:8080/"
        },
        "id": "5awVfQddjAuo",
        "outputId": "51c0f294-0dd0-4d9c-8f65-88d8e6cd742b"
      },
      "execution_count": 36,
      "outputs": [
        {
          "output_type": "stream",
          "name": "stdout",
          "text": [
            "Epoch 1/100\n",
            "354/354 - 12s - loss: 6.7936 - accuracy: 0.0474 - 12s/epoch - 35ms/step\n",
            "Epoch 2/100\n",
            "354/354 - 8s - loss: 6.2924 - accuracy: 0.0529 - 8s/epoch - 24ms/step\n",
            "Epoch 3/100\n",
            "354/354 - 8s - loss: 6.1731 - accuracy: 0.0529 - 8s/epoch - 24ms/step\n",
            "Epoch 4/100\n",
            "354/354 - 8s - loss: 6.0661 - accuracy: 0.0530 - 8s/epoch - 23ms/step\n",
            "Epoch 5/100\n",
            "354/354 - 9s - loss: 5.9521 - accuracy: 0.0582 - 9s/epoch - 24ms/step\n",
            "Epoch 6/100\n",
            "354/354 - 8s - loss: 5.8163 - accuracy: 0.0655 - 8s/epoch - 23ms/step\n",
            "Epoch 7/100\n",
            "354/354 - 8s - loss: 5.7093 - accuracy: 0.0659 - 8s/epoch - 24ms/step\n",
            "Epoch 8/100\n",
            "354/354 - 8s - loss: 5.6243 - accuracy: 0.0678 - 8s/epoch - 24ms/step\n",
            "Epoch 9/100\n",
            "354/354 - 8s - loss: 5.5544 - accuracy: 0.0690 - 8s/epoch - 24ms/step\n",
            "Epoch 10/100\n",
            "354/354 - 8s - loss: 5.4928 - accuracy: 0.0705 - 8s/epoch - 24ms/step\n",
            "Epoch 11/100\n",
            "354/354 - 8s - loss: 5.4256 - accuracy: 0.0703 - 8s/epoch - 24ms/step\n",
            "Epoch 12/100\n",
            "354/354 - 8s - loss: 5.3535 - accuracy: 0.0735 - 8s/epoch - 24ms/step\n",
            "Epoch 13/100\n",
            "354/354 - 8s - loss: 5.2871 - accuracy: 0.0754 - 8s/epoch - 24ms/step\n",
            "Epoch 14/100\n",
            "354/354 - 8s - loss: 5.2196 - accuracy: 0.0771 - 8s/epoch - 24ms/step\n",
            "Epoch 15/100\n",
            "354/354 - 8s - loss: 5.1625 - accuracy: 0.0790 - 8s/epoch - 24ms/step\n",
            "Epoch 16/100\n",
            "354/354 - 8s - loss: 5.1049 - accuracy: 0.0827 - 8s/epoch - 24ms/step\n",
            "Epoch 17/100\n",
            "354/354 - 8s - loss: 5.0507 - accuracy: 0.0849 - 8s/epoch - 24ms/step\n",
            "Epoch 18/100\n",
            "354/354 - 8s - loss: 4.9966 - accuracy: 0.0843 - 8s/epoch - 24ms/step\n",
            "Epoch 19/100\n",
            "354/354 - 8s - loss: 4.9415 - accuracy: 0.0874 - 8s/epoch - 24ms/step\n",
            "Epoch 20/100\n",
            "354/354 - 8s - loss: 4.8883 - accuracy: 0.0891 - 8s/epoch - 24ms/step\n",
            "Epoch 21/100\n",
            "354/354 - 8s - loss: 4.8295 - accuracy: 0.0932 - 8s/epoch - 24ms/step\n",
            "Epoch 22/100\n",
            "354/354 - 8s - loss: 4.7704 - accuracy: 0.0966 - 8s/epoch - 24ms/step\n",
            "Epoch 23/100\n",
            "354/354 - 8s - loss: 4.7103 - accuracy: 0.1009 - 8s/epoch - 24ms/step\n",
            "Epoch 24/100\n",
            "354/354 - 8s - loss: 4.6537 - accuracy: 0.1026 - 8s/epoch - 24ms/step\n",
            "Epoch 25/100\n",
            "354/354 - 8s - loss: 4.5947 - accuracy: 0.1071 - 8s/epoch - 24ms/step\n",
            "Epoch 26/100\n",
            "354/354 - 8s - loss: 4.5401 - accuracy: 0.1107 - 8s/epoch - 24ms/step\n",
            "Epoch 27/100\n",
            "354/354 - 9s - loss: 4.4887 - accuracy: 0.1145 - 9s/epoch - 24ms/step\n",
            "Epoch 28/100\n",
            "354/354 - 8s - loss: 4.4318 - accuracy: 0.1157 - 8s/epoch - 24ms/step\n",
            "Epoch 29/100\n",
            "354/354 - 8s - loss: 4.3776 - accuracy: 0.1193 - 8s/epoch - 24ms/step\n",
            "Epoch 30/100\n",
            "354/354 - 8s - loss: 4.3313 - accuracy: 0.1235 - 8s/epoch - 24ms/step\n",
            "Epoch 31/100\n",
            "354/354 - 8s - loss: 4.2800 - accuracy: 0.1254 - 8s/epoch - 24ms/step\n",
            "Epoch 32/100\n",
            "354/354 - 8s - loss: 4.2307 - accuracy: 0.1319 - 8s/epoch - 24ms/step\n",
            "Epoch 33/100\n",
            "354/354 - 8s - loss: 4.1859 - accuracy: 0.1347 - 8s/epoch - 24ms/step\n",
            "Epoch 34/100\n",
            "354/354 - 8s - loss: 4.1395 - accuracy: 0.1368 - 8s/epoch - 24ms/step\n",
            "Epoch 35/100\n",
            "354/354 - 9s - loss: 4.0937 - accuracy: 0.1414 - 9s/epoch - 24ms/step\n",
            "Epoch 36/100\n",
            "354/354 - 9s - loss: 4.0495 - accuracy: 0.1462 - 9s/epoch - 24ms/step\n",
            "Epoch 37/100\n",
            "354/354 - 8s - loss: 4.0051 - accuracy: 0.1512 - 8s/epoch - 24ms/step\n",
            "Epoch 38/100\n",
            "354/354 - 9s - loss: 3.9630 - accuracy: 0.1542 - 9s/epoch - 24ms/step\n",
            "Epoch 39/100\n",
            "354/354 - 8s - loss: 3.9173 - accuracy: 0.1605 - 8s/epoch - 24ms/step\n",
            "Epoch 40/100\n",
            "354/354 - 8s - loss: 3.8772 - accuracy: 0.1642 - 8s/epoch - 24ms/step\n",
            "Epoch 41/100\n",
            "354/354 - 8s - loss: 3.8379 - accuracy: 0.1699 - 8s/epoch - 24ms/step\n",
            "Epoch 42/100\n",
            "354/354 - 8s - loss: 3.8037 - accuracy: 0.1741 - 8s/epoch - 24ms/step\n",
            "Epoch 43/100\n",
            "354/354 - 8s - loss: 3.7957 - accuracy: 0.1727 - 8s/epoch - 24ms/step\n",
            "Epoch 44/100\n",
            "354/354 - 8s - loss: 3.7587 - accuracy: 0.1837 - 8s/epoch - 24ms/step\n",
            "Epoch 45/100\n",
            "354/354 - 8s - loss: 3.7032 - accuracy: 0.1886 - 8s/epoch - 24ms/step\n",
            "Epoch 46/100\n",
            "354/354 - 8s - loss: 3.6597 - accuracy: 0.1940 - 8s/epoch - 24ms/step\n",
            "Epoch 47/100\n",
            "354/354 - 8s - loss: 3.6318 - accuracy: 0.1961 - 8s/epoch - 24ms/step\n",
            "Epoch 48/100\n",
            "354/354 - 8s - loss: 3.5961 - accuracy: 0.2052 - 8s/epoch - 24ms/step\n",
            "Epoch 49/100\n",
            "354/354 - 9s - loss: 3.5640 - accuracy: 0.2099 - 9s/epoch - 24ms/step\n",
            "Epoch 50/100\n",
            "354/354 - 8s - loss: 3.5250 - accuracy: 0.2154 - 8s/epoch - 24ms/step\n",
            "Epoch 51/100\n",
            "354/354 - 8s - loss: 3.5037 - accuracy: 0.2199 - 8s/epoch - 24ms/step\n",
            "Epoch 52/100\n",
            "354/354 - 8s - loss: 3.4673 - accuracy: 0.2268 - 8s/epoch - 24ms/step\n",
            "Epoch 53/100\n",
            "354/354 - 9s - loss: 3.4361 - accuracy: 0.2300 - 9s/epoch - 24ms/step\n",
            "Epoch 54/100\n",
            "354/354 - 8s - loss: 3.4056 - accuracy: 0.2306 - 8s/epoch - 24ms/step\n",
            "Epoch 55/100\n",
            "354/354 - 8s - loss: 3.3739 - accuracy: 0.2426 - 8s/epoch - 24ms/step\n",
            "Epoch 56/100\n",
            "354/354 - 9s - loss: 3.3447 - accuracy: 0.2463 - 9s/epoch - 24ms/step\n",
            "Epoch 57/100\n",
            "354/354 - 8s - loss: 3.3145 - accuracy: 0.2504 - 8s/epoch - 24ms/step\n",
            "Epoch 58/100\n",
            "354/354 - 8s - loss: 3.2938 - accuracy: 0.2521 - 8s/epoch - 24ms/step\n",
            "Epoch 59/100\n",
            "354/354 - 8s - loss: 3.3010 - accuracy: 0.2538 - 8s/epoch - 24ms/step\n",
            "Epoch 60/100\n",
            "354/354 - 8s - loss: 3.2408 - accuracy: 0.2654 - 8s/epoch - 24ms/step\n",
            "Epoch 61/100\n",
            "354/354 - 8s - loss: 3.2102 - accuracy: 0.2720 - 8s/epoch - 24ms/step\n",
            "Epoch 62/100\n",
            "354/354 - 8s - loss: 3.1852 - accuracy: 0.2753 - 8s/epoch - 24ms/step\n",
            "Epoch 63/100\n",
            "354/354 - 8s - loss: 3.1514 - accuracy: 0.2798 - 8s/epoch - 24ms/step\n",
            "Epoch 64/100\n",
            "354/354 - 8s - loss: 3.1331 - accuracy: 0.2850 - 8s/epoch - 24ms/step\n",
            "Epoch 65/100\n",
            "354/354 - 8s - loss: 3.1181 - accuracy: 0.2864 - 8s/epoch - 24ms/step\n",
            "Epoch 66/100\n",
            "354/354 - 8s - loss: 3.0880 - accuracy: 0.2918 - 8s/epoch - 24ms/step\n",
            "Epoch 67/100\n",
            "354/354 - 8s - loss: 3.0668 - accuracy: 0.3005 - 8s/epoch - 24ms/step\n",
            "Epoch 68/100\n",
            "354/354 - 8s - loss: 3.0416 - accuracy: 0.2990 - 8s/epoch - 24ms/step\n",
            "Epoch 69/100\n",
            "354/354 - 8s - loss: 3.0090 - accuracy: 0.3064 - 8s/epoch - 24ms/step\n",
            "Epoch 70/100\n",
            "354/354 - 8s - loss: 3.0237 - accuracy: 0.3083 - 8s/epoch - 24ms/step\n",
            "Epoch 71/100\n",
            "354/354 - 9s - loss: 2.9820 - accuracy: 0.3131 - 9s/epoch - 24ms/step\n",
            "Epoch 72/100\n",
            "354/354 - 9s - loss: 2.9428 - accuracy: 0.3188 - 9s/epoch - 24ms/step\n",
            "Epoch 73/100\n",
            "354/354 - 8s - loss: 2.9165 - accuracy: 0.3275 - 8s/epoch - 24ms/step\n",
            "Epoch 74/100\n",
            "354/354 - 8s - loss: 2.9185 - accuracy: 0.3248 - 8s/epoch - 24ms/step\n",
            "Epoch 75/100\n",
            "354/354 - 8s - loss: 2.8927 - accuracy: 0.3296 - 8s/epoch - 24ms/step\n",
            "Epoch 76/100\n",
            "354/354 - 8s - loss: 2.8677 - accuracy: 0.3335 - 8s/epoch - 24ms/step\n",
            "Epoch 77/100\n",
            "354/354 - 9s - loss: 2.8367 - accuracy: 0.3416 - 9s/epoch - 24ms/step\n",
            "Epoch 78/100\n",
            "354/354 - 9s - loss: 2.8130 - accuracy: 0.3425 - 9s/epoch - 24ms/step\n",
            "Epoch 79/100\n",
            "354/354 - 9s - loss: 2.7933 - accuracy: 0.3515 - 9s/epoch - 24ms/step\n",
            "Epoch 80/100\n",
            "354/354 - 9s - loss: 2.7813 - accuracy: 0.3510 - 9s/epoch - 24ms/step\n",
            "Epoch 81/100\n",
            "354/354 - 8s - loss: 2.7591 - accuracy: 0.3557 - 8s/epoch - 24ms/step\n",
            "Epoch 82/100\n",
            "354/354 - 8s - loss: 2.7301 - accuracy: 0.3637 - 8s/epoch - 24ms/step\n",
            "Epoch 83/100\n",
            "354/354 - 8s - loss: 2.7194 - accuracy: 0.3651 - 8s/epoch - 24ms/step\n",
            "Epoch 84/100\n",
            "354/354 - 8s - loss: 2.6973 - accuracy: 0.3654 - 8s/epoch - 24ms/step\n",
            "Epoch 85/100\n",
            "354/354 - 8s - loss: 2.6721 - accuracy: 0.3691 - 8s/epoch - 24ms/step\n",
            "Epoch 86/100\n",
            "354/354 - 9s - loss: 2.6547 - accuracy: 0.3777 - 9s/epoch - 24ms/step\n",
            "Epoch 87/100\n",
            "354/354 - 8s - loss: 2.6477 - accuracy: 0.3764 - 8s/epoch - 24ms/step\n",
            "Epoch 88/100\n",
            "354/354 - 8s - loss: 2.6210 - accuracy: 0.3824 - 8s/epoch - 24ms/step\n",
            "Epoch 89/100\n",
            "354/354 - 8s - loss: 2.6099 - accuracy: 0.3844 - 8s/epoch - 24ms/step\n",
            "Epoch 90/100\n",
            "354/354 - 8s - loss: 2.6029 - accuracy: 0.3838 - 8s/epoch - 24ms/step\n",
            "Epoch 91/100\n",
            "354/354 - 8s - loss: 2.5707 - accuracy: 0.3902 - 8s/epoch - 24ms/step\n",
            "Epoch 92/100\n",
            "354/354 - 8s - loss: 2.5521 - accuracy: 0.3948 - 8s/epoch - 24ms/step\n",
            "Epoch 93/100\n",
            "354/354 - 8s - loss: 2.5299 - accuracy: 0.4043 - 8s/epoch - 24ms/step\n",
            "Epoch 94/100\n",
            "354/354 - 8s - loss: 2.5112 - accuracy: 0.4052 - 8s/epoch - 23ms/step\n",
            "Epoch 95/100\n",
            "354/354 - 8s - loss: 2.5153 - accuracy: 0.4032 - 8s/epoch - 24ms/step\n",
            "Epoch 96/100\n",
            "354/354 - 8s - loss: 2.4760 - accuracy: 0.4055 - 8s/epoch - 24ms/step\n",
            "Epoch 97/100\n",
            "354/354 - 8s - loss: 2.4602 - accuracy: 0.4215 - 8s/epoch - 24ms/step\n",
            "Epoch 98/100\n",
            "354/354 - 8s - loss: 2.4492 - accuracy: 0.4216 - 8s/epoch - 24ms/step\n",
            "Epoch 99/100\n",
            "354/354 - 8s - loss: 2.4331 - accuracy: 0.4176 - 8s/epoch - 24ms/step\n",
            "Epoch 100/100\n",
            "354/354 - 8s - loss: 2.4265 - accuracy: 0.4206 - 8s/epoch - 24ms/step\n"
          ]
        },
        {
          "output_type": "execute_result",
          "data": {
            "text/plain": [
              "<keras.callbacks.History at 0x7f3b106bd9d0>"
            ]
          },
          "metadata": {},
          "execution_count": 36
        }
      ]
    },
    {
      "cell_type": "code",
      "source": [
        "model.save('mobydic_model.h5')"
      ],
      "metadata": {
        "id": "rO-bgPG-jI1g"
      },
      "execution_count": 42,
      "outputs": []
    },
    {
      "cell_type": "code",
      "source": [
        "dump(tokenizer, open('simpleTokenizer', 'wb'))"
      ],
      "metadata": {
        "id": "SnM6PofKjVhv"
      },
      "execution_count": 38,
      "outputs": []
    },
    {
      "cell_type": "code",
      "source": [
        "def generate_text(model, tokenizer, seq_len, seed_text, num_gen_words):\n",
        "  output_text = []\n",
        "  input_text = seed_text\n",
        "  for i in range(num_gen_words):\n",
        "    encoded_text = tokenizer.texts_to_sequences([input_text])[0]\n",
        "    pad_encoded = tf.keras.preprocessing.sequence.pad_sequences([encoded_text], maxlen=seq_len, truncating='pre')\n",
        "    pred_word = model.predict(pad_encoded, verbose=0)[0]\n",
        "    pred_word_ind = np.argmax(pred_word)\n",
        "    pred_word = tokenizer.index_word[pred_word_ind]\n",
        "    input_text += ' '+pred_word\n",
        "    output_text.append(pred_word)\n",
        "  return ' '.join(output_text)"
      ],
      "metadata": {
        "id": "fsevAqi8jbwT"
      },
      "execution_count": 39,
      "outputs": []
    },
    {
      "cell_type": "code",
      "source": [
        "num_gen_words = 20\n",
        "n = np.random.randint(0, len(text_sequences))\n",
        "generate_text(model, tokenizer, seq_len, ' '.join(text_sequences[n]), num_gen_words)"
      ],
      "metadata": {
        "colab": {
          "base_uri": "https://localhost:8080/",
          "height": 53
        },
        "id": "tu_qGhvHlU5t",
        "outputId": "22b9db32-4bec-4e6c-c67a-1046a00a556b"
      },
      "execution_count": 40,
      "outputs": [
        {
          "output_type": "execute_result",
          "data": {
            "text/plain": [
              "'alive to the comical predicament began or picked out to limping to the neighbors and at last now not do'"
            ],
            "application/vnd.google.colaboratory.intrinsic+json": {
              "type": "string"
            }
          },
          "metadata": {},
          "execution_count": 40
        }
      ]
    },
    {
      "cell_type": "code",
      "source": [
        "model.fit(x, y, batch_size=32, epochs=100, verbose=2)"
      ],
      "metadata": {
        "colab": {
          "base_uri": "https://localhost:8080/"
        },
        "id": "K0xdCeX3nx_w",
        "outputId": "a77cfbce-9198-40cf-b9b5-d9d44cc1dbf9"
      },
      "execution_count": 41,
      "outputs": [
        {
          "output_type": "stream",
          "name": "stdout",
          "text": [
            "Epoch 1/100\n",
            "354/354 - 8s - loss: 2.4358 - accuracy: 0.4231 - 8s/epoch - 24ms/step\n",
            "Epoch 2/100\n",
            "354/354 - 8s - loss: 2.4075 - accuracy: 0.4249 - 8s/epoch - 24ms/step\n",
            "Epoch 3/100\n",
            "354/354 - 8s - loss: 2.3861 - accuracy: 0.4316 - 8s/epoch - 24ms/step\n",
            "Epoch 4/100\n",
            "354/354 - 8s - loss: 2.3434 - accuracy: 0.4422 - 8s/epoch - 24ms/step\n",
            "Epoch 5/100\n",
            "354/354 - 8s - loss: 2.3309 - accuracy: 0.4417 - 8s/epoch - 24ms/step\n",
            "Epoch 6/100\n",
            "354/354 - 8s - loss: 2.3072 - accuracy: 0.4516 - 8s/epoch - 24ms/step\n",
            "Epoch 7/100\n",
            "354/354 - 8s - loss: 2.3001 - accuracy: 0.4500 - 8s/epoch - 24ms/step\n",
            "Epoch 8/100\n",
            "354/354 - 8s - loss: 2.2970 - accuracy: 0.4460 - 8s/epoch - 24ms/step\n",
            "Epoch 9/100\n",
            "354/354 - 8s - loss: 2.2842 - accuracy: 0.4538 - 8s/epoch - 24ms/step\n",
            "Epoch 10/100\n",
            "354/354 - 8s - loss: 2.2797 - accuracy: 0.4533 - 8s/epoch - 24ms/step\n",
            "Epoch 11/100\n",
            "354/354 - 8s - loss: 2.2579 - accuracy: 0.4556 - 8s/epoch - 24ms/step\n",
            "Epoch 12/100\n",
            "354/354 - 8s - loss: 2.2407 - accuracy: 0.4646 - 8s/epoch - 24ms/step\n",
            "Epoch 13/100\n",
            "354/354 - 8s - loss: 2.2529 - accuracy: 0.4595 - 8s/epoch - 24ms/step\n",
            "Epoch 14/100\n",
            "354/354 - 8s - loss: 2.2138 - accuracy: 0.4658 - 8s/epoch - 24ms/step\n",
            "Epoch 15/100\n",
            "354/354 - 8s - loss: 2.1822 - accuracy: 0.4767 - 8s/epoch - 24ms/step\n",
            "Epoch 16/100\n",
            "354/354 - 8s - loss: 2.1648 - accuracy: 0.4805 - 8s/epoch - 24ms/step\n",
            "Epoch 17/100\n",
            "354/354 - 8s - loss: 2.1651 - accuracy: 0.4798 - 8s/epoch - 24ms/step\n",
            "Epoch 18/100\n",
            "354/354 - 9s - loss: 2.1415 - accuracy: 0.4903 - 9s/epoch - 24ms/step\n",
            "Epoch 19/100\n",
            "354/354 - 9s - loss: 2.1258 - accuracy: 0.4880 - 9s/epoch - 24ms/step\n",
            "Epoch 20/100\n",
            "354/354 - 8s - loss: 2.1109 - accuracy: 0.4940 - 8s/epoch - 24ms/step\n",
            "Epoch 21/100\n",
            "354/354 - 8s - loss: 2.0937 - accuracy: 0.4928 - 8s/epoch - 24ms/step\n",
            "Epoch 22/100\n",
            "354/354 - 8s - loss: 2.0972 - accuracy: 0.4946 - 8s/epoch - 24ms/step\n",
            "Epoch 23/100\n",
            "354/354 - 8s - loss: 2.0914 - accuracy: 0.4956 - 8s/epoch - 24ms/step\n",
            "Epoch 24/100\n",
            "354/354 - 8s - loss: 2.0653 - accuracy: 0.4974 - 8s/epoch - 24ms/step\n",
            "Epoch 25/100\n",
            "354/354 - 8s - loss: 2.0543 - accuracy: 0.5027 - 8s/epoch - 24ms/step\n",
            "Epoch 26/100\n",
            "354/354 - 8s - loss: 2.0318 - accuracy: 0.5113 - 8s/epoch - 24ms/step\n",
            "Epoch 27/100\n",
            "354/354 - 8s - loss: 2.0269 - accuracy: 0.5133 - 8s/epoch - 24ms/step\n",
            "Epoch 28/100\n",
            "354/354 - 9s - loss: 2.0160 - accuracy: 0.5185 - 9s/epoch - 24ms/step\n",
            "Epoch 29/100\n",
            "354/354 - 9s - loss: 1.9971 - accuracy: 0.5119 - 9s/epoch - 24ms/step\n",
            "Epoch 30/100\n",
            "354/354 - 9s - loss: 2.0053 - accuracy: 0.5148 - 9s/epoch - 24ms/step\n",
            "Epoch 31/100\n",
            "354/354 - 8s - loss: 1.9788 - accuracy: 0.5202 - 8s/epoch - 24ms/step\n",
            "Epoch 32/100\n",
            "354/354 - 8s - loss: 1.9690 - accuracy: 0.5274 - 8s/epoch - 24ms/step\n",
            "Epoch 33/100\n",
            "354/354 - 8s - loss: 1.9450 - accuracy: 0.5287 - 8s/epoch - 24ms/step\n",
            "Epoch 34/100\n",
            "354/354 - 8s - loss: 1.9490 - accuracy: 0.5296 - 8s/epoch - 24ms/step\n",
            "Epoch 35/100\n",
            "354/354 - 8s - loss: 1.9275 - accuracy: 0.5364 - 8s/epoch - 24ms/step\n",
            "Epoch 36/100\n",
            "354/354 - 8s - loss: 1.9173 - accuracy: 0.5367 - 8s/epoch - 24ms/step\n",
            "Epoch 37/100\n",
            "354/354 - 8s - loss: 1.9111 - accuracy: 0.5362 - 8s/epoch - 24ms/step\n",
            "Epoch 38/100\n",
            "354/354 - 9s - loss: 1.9107 - accuracy: 0.5377 - 9s/epoch - 24ms/step\n",
            "Epoch 39/100\n",
            "354/354 - 8s - loss: 1.8733 - accuracy: 0.5465 - 8s/epoch - 24ms/step\n",
            "Epoch 40/100\n",
            "354/354 - 8s - loss: 1.8620 - accuracy: 0.5481 - 8s/epoch - 24ms/step\n",
            "Epoch 41/100\n",
            "354/354 - 8s - loss: 1.8552 - accuracy: 0.5504 - 8s/epoch - 24ms/step\n",
            "Epoch 42/100\n",
            "354/354 - 8s - loss: 1.8332 - accuracy: 0.5520 - 8s/epoch - 24ms/step\n",
            "Epoch 43/100\n",
            "354/354 - 8s - loss: 1.8238 - accuracy: 0.5580 - 8s/epoch - 24ms/step\n",
            "Epoch 44/100\n",
            "354/354 - 8s - loss: 1.8216 - accuracy: 0.5560 - 8s/epoch - 24ms/step\n",
            "Epoch 45/100\n",
            "354/354 - 8s - loss: 1.7981 - accuracy: 0.5632 - 8s/epoch - 24ms/step\n",
            "Epoch 46/100\n",
            "354/354 - 8s - loss: 1.7969 - accuracy: 0.5582 - 8s/epoch - 24ms/step\n",
            "Epoch 47/100\n",
            "354/354 - 8s - loss: 1.7821 - accuracy: 0.5687 - 8s/epoch - 24ms/step\n",
            "Epoch 48/100\n",
            "354/354 - 8s - loss: 1.7957 - accuracy: 0.5623 - 8s/epoch - 24ms/step\n",
            "Epoch 49/100\n",
            "354/354 - 8s - loss: 1.7751 - accuracy: 0.5676 - 8s/epoch - 24ms/step\n",
            "Epoch 50/100\n",
            "354/354 - 8s - loss: 1.7561 - accuracy: 0.5732 - 8s/epoch - 24ms/step\n",
            "Epoch 51/100\n",
            "354/354 - 8s - loss: 1.7512 - accuracy: 0.5743 - 8s/epoch - 24ms/step\n",
            "Epoch 52/100\n",
            "354/354 - 8s - loss: 1.7217 - accuracy: 0.5796 - 8s/epoch - 24ms/step\n",
            "Epoch 53/100\n",
            "354/354 - 8s - loss: 1.7081 - accuracy: 0.5820 - 8s/epoch - 24ms/step\n",
            "Epoch 54/100\n",
            "354/354 - 8s - loss: 1.6972 - accuracy: 0.5827 - 8s/epoch - 24ms/step\n",
            "Epoch 55/100\n",
            "354/354 - 8s - loss: 1.6941 - accuracy: 0.5868 - 8s/epoch - 23ms/step\n",
            "Epoch 56/100\n",
            "354/354 - 8s - loss: 1.6832 - accuracy: 0.5883 - 8s/epoch - 24ms/step\n",
            "Epoch 57/100\n",
            "354/354 - 8s - loss: 1.6738 - accuracy: 0.5918 - 8s/epoch - 24ms/step\n",
            "Epoch 58/100\n",
            "354/354 - 8s - loss: 1.6756 - accuracy: 0.5938 - 8s/epoch - 24ms/step\n",
            "Epoch 59/100\n",
            "354/354 - 8s - loss: 1.6503 - accuracy: 0.5933 - 8s/epoch - 24ms/step\n",
            "Epoch 60/100\n",
            "354/354 - 8s - loss: 1.6389 - accuracy: 0.5972 - 8s/epoch - 24ms/step\n",
            "Epoch 61/100\n",
            "354/354 - 8s - loss: 1.6292 - accuracy: 0.6055 - 8s/epoch - 24ms/step\n",
            "Epoch 62/100\n",
            "354/354 - 8s - loss: 1.6018 - accuracy: 0.6070 - 8s/epoch - 24ms/step\n",
            "Epoch 63/100\n",
            "354/354 - 9s - loss: 1.6023 - accuracy: 0.6055 - 9s/epoch - 24ms/step\n",
            "Epoch 64/100\n",
            "354/354 - 8s - loss: 1.6008 - accuracy: 0.6049 - 8s/epoch - 24ms/step\n",
            "Epoch 65/100\n",
            "354/354 - 9s - loss: 1.6015 - accuracy: 0.6024 - 9s/epoch - 24ms/step\n",
            "Epoch 66/100\n",
            "354/354 - 9s - loss: 1.5840 - accuracy: 0.6067 - 9s/epoch - 24ms/step\n",
            "Epoch 67/100\n",
            "354/354 - 9s - loss: 1.5755 - accuracy: 0.6126 - 9s/epoch - 24ms/step\n",
            "Epoch 68/100\n",
            "354/354 - 8s - loss: 1.5785 - accuracy: 0.6101 - 8s/epoch - 24ms/step\n",
            "Epoch 69/100\n",
            "354/354 - 9s - loss: 1.5510 - accuracy: 0.6159 - 9s/epoch - 24ms/step\n",
            "Epoch 70/100\n",
            "354/354 - 8s - loss: 1.5487 - accuracy: 0.6220 - 8s/epoch - 24ms/step\n",
            "Epoch 71/100\n",
            "354/354 - 8s - loss: 1.5244 - accuracy: 0.6247 - 8s/epoch - 24ms/step\n",
            "Epoch 72/100\n",
            "354/354 - 8s - loss: 1.5135 - accuracy: 0.6276 - 8s/epoch - 24ms/step\n",
            "Epoch 73/100\n",
            "354/354 - 8s - loss: 1.5289 - accuracy: 0.6210 - 8s/epoch - 24ms/step\n",
            "Epoch 74/100\n",
            "354/354 - 8s - loss: 1.5008 - accuracy: 0.6300 - 8s/epoch - 24ms/step\n",
            "Epoch 75/100\n",
            "354/354 - 8s - loss: 1.5000 - accuracy: 0.6312 - 8s/epoch - 24ms/step\n",
            "Epoch 76/100\n",
            "354/354 - 8s - loss: 1.4974 - accuracy: 0.6323 - 8s/epoch - 24ms/step\n",
            "Epoch 77/100\n",
            "354/354 - 8s - loss: 1.4697 - accuracy: 0.6368 - 8s/epoch - 24ms/step\n",
            "Epoch 78/100\n",
            "354/354 - 8s - loss: 1.4636 - accuracy: 0.6394 - 8s/epoch - 24ms/step\n",
            "Epoch 79/100\n",
            "354/354 - 8s - loss: 1.4609 - accuracy: 0.6380 - 8s/epoch - 24ms/step\n",
            "Epoch 80/100\n",
            "354/354 - 8s - loss: 1.4519 - accuracy: 0.6407 - 8s/epoch - 24ms/step\n",
            "Epoch 81/100\n",
            "354/354 - 8s - loss: 1.4501 - accuracy: 0.6383 - 8s/epoch - 24ms/step\n",
            "Epoch 82/100\n",
            "354/354 - 8s - loss: 1.4632 - accuracy: 0.6399 - 8s/epoch - 24ms/step\n",
            "Epoch 83/100\n",
            "354/354 - 8s - loss: 1.4312 - accuracy: 0.6486 - 8s/epoch - 24ms/step\n",
            "Epoch 84/100\n",
            "354/354 - 8s - loss: 1.4157 - accuracy: 0.6526 - 8s/epoch - 24ms/step\n",
            "Epoch 85/100\n",
            "354/354 - 11s - loss: 1.4055 - accuracy: 0.6527 - 11s/epoch - 31ms/step\n",
            "Epoch 86/100\n",
            "354/354 - 8s - loss: 1.3959 - accuracy: 0.6534 - 8s/epoch - 24ms/step\n",
            "Epoch 87/100\n",
            "354/354 - 8s - loss: 1.3926 - accuracy: 0.6552 - 8s/epoch - 24ms/step\n",
            "Epoch 88/100\n",
            "354/354 - 8s - loss: 1.3924 - accuracy: 0.6539 - 8s/epoch - 24ms/step\n",
            "Epoch 89/100\n",
            "354/354 - 9s - loss: 1.3601 - accuracy: 0.6622 - 9s/epoch - 24ms/step\n",
            "Epoch 90/100\n",
            "354/354 - 8s - loss: 1.3441 - accuracy: 0.6672 - 8s/epoch - 24ms/step\n",
            "Epoch 91/100\n",
            "354/354 - 9s - loss: 1.3497 - accuracy: 0.6661 - 9s/epoch - 25ms/step\n",
            "Epoch 92/100\n",
            "354/354 - 8s - loss: 1.3493 - accuracy: 0.6663 - 8s/epoch - 24ms/step\n",
            "Epoch 93/100\n",
            "354/354 - 8s - loss: 1.3413 - accuracy: 0.6659 - 8s/epoch - 24ms/step\n",
            "Epoch 94/100\n",
            "354/354 - 8s - loss: 1.3463 - accuracy: 0.6620 - 8s/epoch - 24ms/step\n",
            "Epoch 95/100\n",
            "354/354 - 8s - loss: 1.3437 - accuracy: 0.6662 - 8s/epoch - 24ms/step\n",
            "Epoch 96/100\n",
            "354/354 - 9s - loss: 1.3255 - accuracy: 0.6737 - 9s/epoch - 24ms/step\n",
            "Epoch 97/100\n",
            "354/354 - 8s - loss: 1.2944 - accuracy: 0.6786 - 8s/epoch - 24ms/step\n",
            "Epoch 98/100\n",
            "354/354 - 9s - loss: 1.2856 - accuracy: 0.6792 - 9s/epoch - 25ms/step\n",
            "Epoch 99/100\n",
            "354/354 - 9s - loss: 1.2847 - accuracy: 0.6799 - 9s/epoch - 27ms/step\n",
            "Epoch 100/100\n",
            "354/354 - 9s - loss: 1.3091 - accuracy: 0.6725 - 9s/epoch - 25ms/step\n"
          ]
        },
        {
          "output_type": "execute_result",
          "data": {
            "text/plain": [
              "<keras.callbacks.History at 0x7f3b07beb890>"
            ]
          },
          "metadata": {},
          "execution_count": 41
        }
      ]
    },
    {
      "cell_type": "code",
      "source": [
        "num_gen_words = 40\n",
        "n = np.random.randint(0, len(text_sequences))\n",
        "generate_text(model, tokenizer, seq_len, ' '.join(text_sequences[n]), num_gen_words)"
      ],
      "metadata": {
        "colab": {
          "base_uri": "https://localhost:8080/",
          "height": 70
        },
        "id": "MvXucMEOnzoT",
        "outputId": "5d471923-b198-4030-afb6-32a2abd3dfc3"
      },
      "execution_count": 44,
      "outputs": [
        {
          "output_type": "execute_result",
          "data": {
            "text/plain": [
              "'other things at the same head do the before the most leviathan orchard will lead like my eyes who almost money would properly flukes that was a sort of glass bought up a newfoundland dog just and queequeg was found'"
            ],
            "application/vnd.google.colaboratory.intrinsic+json": {
              "type": "string"
            }
          },
          "metadata": {},
          "execution_count": 44
        }
      ]
    },
    {
      "cell_type": "code",
      "source": [
        "model.fit(x, y, batch_size=32, epochs=100, verbose=2)"
      ],
      "metadata": {
        "id": "kM_W-VOfsFQ0",
        "colab": {
          "base_uri": "https://localhost:8080/"
        },
        "outputId": "fe2faccc-3f13-42c8-82df-6ad36ddc1021"
      },
      "execution_count": 45,
      "outputs": [
        {
          "output_type": "stream",
          "name": "stdout",
          "text": [
            "Epoch 1/100\n",
            "354/354 - 9s - loss: 1.3127 - accuracy: 0.6707 - 9s/epoch - 25ms/step\n",
            "Epoch 2/100\n",
            "354/354 - 9s - loss: 1.2780 - accuracy: 0.6813 - 9s/epoch - 24ms/step\n",
            "Epoch 3/100\n",
            "354/354 - 9s - loss: 1.2495 - accuracy: 0.6890 - 9s/epoch - 24ms/step\n",
            "Epoch 4/100\n",
            "354/354 - 8s - loss: 1.2574 - accuracy: 0.6873 - 8s/epoch - 24ms/step\n",
            "Epoch 5/100\n",
            "354/354 - 9s - loss: 1.2514 - accuracy: 0.6861 - 9s/epoch - 24ms/step\n",
            "Epoch 6/100\n",
            "354/354 - 9s - loss: 1.2328 - accuracy: 0.6909 - 9s/epoch - 24ms/step\n",
            "Epoch 7/100\n",
            "354/354 - 8s - loss: 1.2229 - accuracy: 0.6917 - 8s/epoch - 24ms/step\n",
            "Epoch 8/100\n",
            "354/354 - 9s - loss: 1.2226 - accuracy: 0.6921 - 9s/epoch - 24ms/step\n",
            "Epoch 9/100\n",
            "354/354 - 9s - loss: 1.2343 - accuracy: 0.6914 - 9s/epoch - 24ms/step\n",
            "Epoch 10/100\n",
            "354/354 - 9s - loss: 1.2036 - accuracy: 0.7026 - 9s/epoch - 24ms/step\n",
            "Epoch 11/100\n",
            "354/354 - 9s - loss: 1.2078 - accuracy: 0.6954 - 9s/epoch - 24ms/step\n",
            "Epoch 12/100\n",
            "354/354 - 9s - loss: 1.2246 - accuracy: 0.6925 - 9s/epoch - 25ms/step\n",
            "Epoch 13/100\n",
            "354/354 - 9s - loss: 1.2079 - accuracy: 0.6965 - 9s/epoch - 24ms/step\n",
            "Epoch 14/100\n",
            "354/354 - 8s - loss: 1.1805 - accuracy: 0.7042 - 8s/epoch - 24ms/step\n",
            "Epoch 15/100\n",
            "354/354 - 8s - loss: 1.1714 - accuracy: 0.7046 - 8s/epoch - 24ms/step\n",
            "Epoch 16/100\n",
            "354/354 - 9s - loss: 1.1690 - accuracy: 0.7138 - 9s/epoch - 24ms/step\n",
            "Epoch 17/100\n",
            "354/354 - 9s - loss: 1.1414 - accuracy: 0.7205 - 9s/epoch - 24ms/step\n",
            "Epoch 18/100\n",
            "354/354 - 9s - loss: 1.1395 - accuracy: 0.7167 - 9s/epoch - 24ms/step\n",
            "Epoch 19/100\n",
            "354/354 - 8s - loss: 1.1657 - accuracy: 0.7112 - 8s/epoch - 24ms/step\n",
            "Epoch 20/100\n",
            "354/354 - 9s - loss: 1.1773 - accuracy: 0.7046 - 9s/epoch - 24ms/step\n",
            "Epoch 21/100\n",
            "354/354 - 9s - loss: 1.1375 - accuracy: 0.7160 - 9s/epoch - 24ms/step\n",
            "Epoch 22/100\n",
            "354/354 - 8s - loss: 1.1128 - accuracy: 0.7266 - 8s/epoch - 24ms/step\n",
            "Epoch 23/100\n",
            "354/354 - 9s - loss: 1.1061 - accuracy: 0.7226 - 9s/epoch - 24ms/step\n",
            "Epoch 24/100\n",
            "354/354 - 9s - loss: 1.1127 - accuracy: 0.7253 - 9s/epoch - 24ms/step\n",
            "Epoch 25/100\n",
            "354/354 - 8s - loss: 1.1177 - accuracy: 0.7199 - 8s/epoch - 24ms/step\n",
            "Epoch 26/100\n",
            "354/354 - 9s - loss: 1.0841 - accuracy: 0.7326 - 9s/epoch - 24ms/step\n",
            "Epoch 27/100\n",
            "354/354 - 9s - loss: 1.0977 - accuracy: 0.7232 - 9s/epoch - 24ms/step\n",
            "Epoch 28/100\n",
            "354/354 - 9s - loss: 1.0985 - accuracy: 0.7247 - 9s/epoch - 24ms/step\n",
            "Epoch 29/100\n",
            "354/354 - 9s - loss: 1.1069 - accuracy: 0.7252 - 9s/epoch - 24ms/step\n",
            "Epoch 30/100\n",
            "354/354 - 9s - loss: 1.0762 - accuracy: 0.7328 - 9s/epoch - 24ms/step\n",
            "Epoch 31/100\n",
            "354/354 - 9s - loss: 1.0486 - accuracy: 0.7397 - 9s/epoch - 24ms/step\n",
            "Epoch 32/100\n",
            "354/354 - 9s - loss: 1.0402 - accuracy: 0.7447 - 9s/epoch - 24ms/step\n",
            "Epoch 33/100\n",
            "354/354 - 8s - loss: 1.0592 - accuracy: 0.7380 - 8s/epoch - 24ms/step\n",
            "Epoch 34/100\n",
            "354/354 - 8s - loss: 1.0631 - accuracy: 0.7296 - 8s/epoch - 24ms/step\n",
            "Epoch 35/100\n",
            "354/354 - 9s - loss: 1.0658 - accuracy: 0.7355 - 9s/epoch - 24ms/step\n",
            "Epoch 36/100\n",
            "354/354 - 9s - loss: 1.0413 - accuracy: 0.7405 - 9s/epoch - 24ms/step\n",
            "Epoch 37/100\n",
            "354/354 - 8s - loss: 1.0414 - accuracy: 0.7374 - 8s/epoch - 24ms/step\n",
            "Epoch 38/100\n",
            "354/354 - 8s - loss: 1.0309 - accuracy: 0.7420 - 8s/epoch - 24ms/step\n",
            "Epoch 39/100\n",
            "354/354 - 9s - loss: 0.9990 - accuracy: 0.7474 - 9s/epoch - 24ms/step\n",
            "Epoch 40/100\n",
            "354/354 - 9s - loss: 1.0004 - accuracy: 0.7479 - 9s/epoch - 24ms/step\n",
            "Epoch 41/100\n",
            "354/354 - 9s - loss: 1.0008 - accuracy: 0.7507 - 9s/epoch - 24ms/step\n",
            "Epoch 42/100\n",
            "354/354 - 9s - loss: 0.9959 - accuracy: 0.7527 - 9s/epoch - 24ms/step\n",
            "Epoch 43/100\n",
            "354/354 - 9s - loss: 1.0184 - accuracy: 0.7434 - 9s/epoch - 24ms/step\n",
            "Epoch 44/100\n",
            "354/354 - 9s - loss: 1.0313 - accuracy: 0.7384 - 9s/epoch - 24ms/step\n",
            "Epoch 45/100\n",
            "354/354 - 8s - loss: 0.9924 - accuracy: 0.7528 - 8s/epoch - 24ms/step\n",
            "Epoch 46/100\n",
            "354/354 - 9s - loss: 0.9583 - accuracy: 0.7617 - 9s/epoch - 24ms/step\n",
            "Epoch 47/100\n",
            "354/354 - 9s - loss: 0.9610 - accuracy: 0.7607 - 9s/epoch - 24ms/step\n",
            "Epoch 48/100\n",
            "354/354 - 9s - loss: 0.9790 - accuracy: 0.7537 - 9s/epoch - 24ms/step\n",
            "Epoch 49/100\n",
            "354/354 - 9s - loss: 0.9876 - accuracy: 0.7503 - 9s/epoch - 24ms/step\n",
            "Epoch 50/100\n",
            "354/354 - 9s - loss: 0.9760 - accuracy: 0.7536 - 9s/epoch - 24ms/step\n",
            "Epoch 51/100\n",
            "354/354 - 9s - loss: 0.9485 - accuracy: 0.7581 - 9s/epoch - 24ms/step\n",
            "Epoch 52/100\n",
            "354/354 - 8s - loss: 0.9330 - accuracy: 0.7637 - 8s/epoch - 24ms/step\n",
            "Epoch 53/100\n",
            "354/354 - 8s - loss: 0.9330 - accuracy: 0.7643 - 8s/epoch - 24ms/step\n",
            "Epoch 54/100\n",
            "354/354 - 8s - loss: 0.9212 - accuracy: 0.7687 - 8s/epoch - 24ms/step\n",
            "Epoch 55/100\n",
            "354/354 - 8s - loss: 0.9025 - accuracy: 0.7771 - 8s/epoch - 24ms/step\n",
            "Epoch 56/100\n",
            "354/354 - 8s - loss: 0.9470 - accuracy: 0.7588 - 8s/epoch - 24ms/step\n",
            "Epoch 57/100\n",
            "354/354 - 8s - loss: 0.9557 - accuracy: 0.7580 - 8s/epoch - 24ms/step\n",
            "Epoch 58/100\n",
            "354/354 - 8s - loss: 0.9000 - accuracy: 0.7725 - 8s/epoch - 24ms/step\n",
            "Epoch 59/100\n",
            "354/354 - 9s - loss: 0.8972 - accuracy: 0.7723 - 9s/epoch - 24ms/step\n",
            "Epoch 60/100\n",
            "354/354 - 9s - loss: 0.9131 - accuracy: 0.7693 - 9s/epoch - 24ms/step\n",
            "Epoch 61/100\n",
            "354/354 - 8s - loss: 0.8933 - accuracy: 0.7723 - 8s/epoch - 24ms/step\n",
            "Epoch 62/100\n",
            "354/354 - 9s - loss: 0.9067 - accuracy: 0.7684 - 9s/epoch - 24ms/step\n",
            "Epoch 63/100\n",
            "354/354 - 9s - loss: 0.8799 - accuracy: 0.7774 - 9s/epoch - 24ms/step\n",
            "Epoch 64/100\n",
            "354/354 - 9s - loss: 0.8847 - accuracy: 0.7764 - 9s/epoch - 24ms/step\n",
            "Epoch 65/100\n",
            "354/354 - 8s - loss: 0.8788 - accuracy: 0.7806 - 8s/epoch - 24ms/step\n",
            "Epoch 66/100\n",
            "354/354 - 9s - loss: 0.8587 - accuracy: 0.7850 - 9s/epoch - 24ms/step\n",
            "Epoch 67/100\n",
            "354/354 - 9s - loss: 0.8654 - accuracy: 0.7860 - 9s/epoch - 24ms/step\n",
            "Epoch 68/100\n",
            "354/354 - 8s - loss: 0.8483 - accuracy: 0.7870 - 8s/epoch - 24ms/step\n",
            "Epoch 69/100\n",
            "354/354 - 8s - loss: 0.9372 - accuracy: 0.7634 - 8s/epoch - 24ms/step\n",
            "Epoch 70/100\n",
            "354/354 - 8s - loss: 0.9268 - accuracy: 0.7634 - 8s/epoch - 24ms/step\n",
            "Epoch 71/100\n",
            "354/354 - 9s - loss: 0.8383 - accuracy: 0.7917 - 9s/epoch - 24ms/step\n",
            "Epoch 72/100\n",
            "354/354 - 8s - loss: 0.8074 - accuracy: 0.8004 - 8s/epoch - 24ms/step\n",
            "Epoch 73/100\n",
            "354/354 - 8s - loss: 0.8246 - accuracy: 0.7955 - 8s/epoch - 24ms/step\n",
            "Epoch 74/100\n",
            "354/354 - 8s - loss: 0.8270 - accuracy: 0.7938 - 8s/epoch - 24ms/step\n",
            "Epoch 75/100\n",
            "354/354 - 8s - loss: 0.8391 - accuracy: 0.7846 - 8s/epoch - 24ms/step\n",
            "Epoch 76/100\n",
            "354/354 - 8s - loss: 0.8229 - accuracy: 0.7908 - 8s/epoch - 24ms/step\n",
            "Epoch 77/100\n",
            "354/354 - 9s - loss: 0.8250 - accuracy: 0.7902 - 9s/epoch - 24ms/step\n",
            "Epoch 78/100\n",
            "354/354 - 9s - loss: 0.8251 - accuracy: 0.7935 - 9s/epoch - 24ms/step\n",
            "Epoch 79/100\n",
            "354/354 - 8s - loss: 0.8403 - accuracy: 0.7881 - 8s/epoch - 24ms/step\n",
            "Epoch 80/100\n",
            "354/354 - 8s - loss: 0.8536 - accuracy: 0.7804 - 8s/epoch - 24ms/step\n",
            "Epoch 81/100\n",
            "354/354 - 8s - loss: 0.7738 - accuracy: 0.8065 - 8s/epoch - 24ms/step\n",
            "Epoch 82/100\n",
            "354/354 - 9s - loss: 0.7648 - accuracy: 0.8082 - 9s/epoch - 24ms/step\n",
            "Epoch 83/100\n",
            "354/354 - 8s - loss: 0.7612 - accuracy: 0.8083 - 8s/epoch - 24ms/step\n",
            "Epoch 84/100\n",
            "354/354 - 9s - loss: 0.7800 - accuracy: 0.8045 - 9s/epoch - 24ms/step\n",
            "Epoch 85/100\n",
            "354/354 - 8s - loss: 0.7692 - accuracy: 0.8037 - 8s/epoch - 24ms/step\n",
            "Epoch 86/100\n",
            "354/354 - 9s - loss: 0.7848 - accuracy: 0.8021 - 9s/epoch - 24ms/step\n",
            "Epoch 87/100\n",
            "354/354 - 9s - loss: 0.8024 - accuracy: 0.7999 - 9s/epoch - 24ms/step\n",
            "Epoch 88/100\n",
            "354/354 - 8s - loss: 0.8104 - accuracy: 0.7908 - 8s/epoch - 24ms/step\n",
            "Epoch 89/100\n",
            "354/354 - 8s - loss: 0.7598 - accuracy: 0.8098 - 8s/epoch - 24ms/step\n",
            "Epoch 90/100\n",
            "354/354 - 8s - loss: 0.7345 - accuracy: 0.8131 - 8s/epoch - 24ms/step\n",
            "Epoch 91/100\n",
            "354/354 - 9s - loss: 0.7289 - accuracy: 0.8188 - 9s/epoch - 24ms/step\n",
            "Epoch 92/100\n",
            "354/354 - 9s - loss: 0.7602 - accuracy: 0.8053 - 9s/epoch - 24ms/step\n",
            "Epoch 93/100\n",
            "354/354 - 8s - loss: 0.7686 - accuracy: 0.8052 - 8s/epoch - 24ms/step\n",
            "Epoch 94/100\n",
            "354/354 - 9s - loss: 0.7503 - accuracy: 0.8119 - 9s/epoch - 24ms/step\n",
            "Epoch 95/100\n",
            "354/354 - 8s - loss: 0.7386 - accuracy: 0.8111 - 8s/epoch - 24ms/step\n",
            "Epoch 96/100\n",
            "354/354 - 8s - loss: 0.7218 - accuracy: 0.8203 - 8s/epoch - 24ms/step\n",
            "Epoch 97/100\n",
            "354/354 - 8s - loss: 0.7185 - accuracy: 0.8192 - 8s/epoch - 24ms/step\n",
            "Epoch 98/100\n",
            "354/354 - 9s - loss: 0.7418 - accuracy: 0.8128 - 9s/epoch - 24ms/step\n",
            "Epoch 99/100\n",
            "354/354 - 8s - loss: 0.7632 - accuracy: 0.8079 - 8s/epoch - 24ms/step\n",
            "Epoch 100/100\n",
            "354/354 - 9s - loss: 0.7393 - accuracy: 0.8130 - 9s/epoch - 24ms/step\n"
          ]
        },
        {
          "output_type": "execute_result",
          "data": {
            "text/plain": [
              "<keras.callbacks.History at 0x7f3b07b22050>"
            ]
          },
          "metadata": {},
          "execution_count": 45
        }
      ]
    },
    {
      "cell_type": "code",
      "source": [
        "model.save('mobydic_model.h5')\n",
        "num_gen_words = 40\n",
        "n = np.random.randint(0, len(text_sequences))\n",
        "generate_text(model, tokenizer, seq_len, ' '.join(text_sequences[n]), num_gen_words)"
      ],
      "metadata": {
        "colab": {
          "base_uri": "https://localhost:8080/",
          "height": 70
        },
        "id": "G_LDblypNeDJ",
        "outputId": "762963b9-f44f-402a-cad0-2421d64f1780"
      },
      "execution_count": 46,
      "outputs": [
        {
          "output_type": "execute_result",
          "data": {
            "text/plain": [
              "\"altogether unwarranted but what most puzzled and confounded you was a fine tar family in the a act of impaling himself at the second mystery 's the harpoon when i ashes all with myself i lay perfectly other and think\""
            ],
            "application/vnd.google.colaboratory.intrinsic+json": {
              "type": "string"
            }
          },
          "metadata": {},
          "execution_count": 46
        }
      ]
    },
    {
      "cell_type": "code",
      "source": [
        "model.fit(x, y, batch_size=32, epochs=100, verbose=2)"
      ],
      "metadata": {
        "colab": {
          "base_uri": "https://localhost:8080/"
        },
        "id": "7ngV6MfRW_L1",
        "outputId": "f0da62f6-09c1-4a83-cf83-e409baa24d2d"
      },
      "execution_count": 47,
      "outputs": [
        {
          "output_type": "stream",
          "name": "stdout",
          "text": [
            "Epoch 1/100\n",
            "354/354 - 9s - loss: 0.7334 - accuracy: 0.8170 - 9s/epoch - 26ms/step\n",
            "Epoch 2/100\n",
            "354/354 - 9s - loss: 0.7685 - accuracy: 0.8062 - 9s/epoch - 26ms/step\n",
            "Epoch 3/100\n",
            "354/354 - 9s - loss: 0.7148 - accuracy: 0.8165 - 9s/epoch - 25ms/step\n",
            "Epoch 4/100\n",
            "354/354 - 9s - loss: 0.6765 - accuracy: 0.8288 - 9s/epoch - 25ms/step\n",
            "Epoch 5/100\n",
            "354/354 - 9s - loss: 0.6535 - accuracy: 0.8378 - 9s/epoch - 25ms/step\n",
            "Epoch 6/100\n",
            "354/354 - 9s - loss: 0.6855 - accuracy: 0.8276 - 9s/epoch - 25ms/step\n",
            "Epoch 7/100\n",
            "354/354 - 9s - loss: 0.6966 - accuracy: 0.8198 - 9s/epoch - 25ms/step\n",
            "Epoch 8/100\n",
            "354/354 - 9s - loss: 0.6760 - accuracy: 0.8313 - 9s/epoch - 25ms/step\n",
            "Epoch 9/100\n",
            "354/354 - 9s - loss: 0.6917 - accuracy: 0.8277 - 9s/epoch - 25ms/step\n",
            "Epoch 10/100\n",
            "354/354 - 9s - loss: 0.6907 - accuracy: 0.8227 - 9s/epoch - 25ms/step\n",
            "Epoch 11/100\n",
            "354/354 - 9s - loss: 0.6699 - accuracy: 0.8266 - 9s/epoch - 25ms/step\n",
            "Epoch 12/100\n",
            "354/354 - 9s - loss: 0.6602 - accuracy: 0.8344 - 9s/epoch - 25ms/step\n",
            "Epoch 13/100\n",
            "354/354 - 9s - loss: 0.6772 - accuracy: 0.8270 - 9s/epoch - 25ms/step\n",
            "Epoch 14/100\n",
            "354/354 - 9s - loss: 0.6728 - accuracy: 0.8332 - 9s/epoch - 25ms/step\n",
            "Epoch 15/100\n",
            "354/354 - 9s - loss: 0.6554 - accuracy: 0.8377 - 9s/epoch - 25ms/step\n",
            "Epoch 16/100\n",
            "354/354 - 9s - loss: 0.6555 - accuracy: 0.8345 - 9s/epoch - 25ms/step\n",
            "Epoch 17/100\n",
            "354/354 - 9s - loss: 0.6526 - accuracy: 0.8386 - 9s/epoch - 24ms/step\n",
            "Epoch 18/100\n",
            "354/354 - 9s - loss: 0.6459 - accuracy: 0.8371 - 9s/epoch - 25ms/step\n",
            "Epoch 19/100\n",
            "354/354 - 9s - loss: 0.6553 - accuracy: 0.8357 - 9s/epoch - 25ms/step\n",
            "Epoch 20/100\n",
            "354/354 - 9s - loss: 0.6755 - accuracy: 0.8301 - 9s/epoch - 24ms/step\n",
            "Epoch 21/100\n",
            "354/354 - 9s - loss: 0.6582 - accuracy: 0.8292 - 9s/epoch - 24ms/step\n",
            "Epoch 22/100\n",
            "354/354 - 9s - loss: 0.6303 - accuracy: 0.8418 - 9s/epoch - 24ms/step\n",
            "Epoch 23/100\n",
            "354/354 - 9s - loss: 0.6389 - accuracy: 0.8366 - 9s/epoch - 24ms/step\n",
            "Epoch 24/100\n",
            "354/354 - 9s - loss: 0.6201 - accuracy: 0.8476 - 9s/epoch - 24ms/step\n",
            "Epoch 25/100\n",
            "354/354 - 9s - loss: 0.6028 - accuracy: 0.8475 - 9s/epoch - 24ms/step\n",
            "Epoch 26/100\n",
            "354/354 - 9s - loss: 0.6317 - accuracy: 0.8395 - 9s/epoch - 25ms/step\n",
            "Epoch 27/100\n",
            "354/354 - 9s - loss: 0.6158 - accuracy: 0.8468 - 9s/epoch - 24ms/step\n",
            "Epoch 28/100\n",
            "354/354 - 9s - loss: 0.6326 - accuracy: 0.8384 - 9s/epoch - 25ms/step\n",
            "Epoch 29/100\n",
            "354/354 - 9s - loss: 0.6567 - accuracy: 0.8342 - 9s/epoch - 25ms/step\n",
            "Epoch 30/100\n",
            "354/354 - 9s - loss: 0.5963 - accuracy: 0.8514 - 9s/epoch - 25ms/step\n",
            "Epoch 31/100\n",
            "354/354 - 9s - loss: 0.6017 - accuracy: 0.8494 - 9s/epoch - 25ms/step\n",
            "Epoch 32/100\n",
            "354/354 - 9s - loss: 0.5920 - accuracy: 0.8522 - 9s/epoch - 25ms/step\n",
            "Epoch 33/100\n",
            "354/354 - 9s - loss: 0.6031 - accuracy: 0.8469 - 9s/epoch - 25ms/step\n",
            "Epoch 34/100\n",
            "354/354 - 9s - loss: 0.6040 - accuracy: 0.8484 - 9s/epoch - 25ms/step\n",
            "Epoch 35/100\n",
            "354/354 - 9s - loss: 0.6010 - accuracy: 0.8474 - 9s/epoch - 25ms/step\n",
            "Epoch 36/100\n",
            "354/354 - 9s - loss: 0.5777 - accuracy: 0.8540 - 9s/epoch - 25ms/step\n",
            "Epoch 37/100\n",
            "354/354 - 9s - loss: 0.5820 - accuracy: 0.8533 - 9s/epoch - 24ms/step\n",
            "Epoch 38/100\n",
            "354/354 - 9s - loss: 0.5529 - accuracy: 0.8590 - 9s/epoch - 24ms/step\n",
            "Epoch 39/100\n",
            "354/354 - 9s - loss: 0.6015 - accuracy: 0.8497 - 9s/epoch - 24ms/step\n",
            "Epoch 40/100\n",
            "354/354 - 9s - loss: 0.5833 - accuracy: 0.8522 - 9s/epoch - 24ms/step\n",
            "Epoch 41/100\n",
            "354/354 - 9s - loss: 0.6105 - accuracy: 0.8426 - 9s/epoch - 24ms/step\n",
            "Epoch 42/100\n",
            "354/354 - 9s - loss: 0.5885 - accuracy: 0.8508 - 9s/epoch - 24ms/step\n",
            "Epoch 43/100\n",
            "354/354 - 9s - loss: 0.5530 - accuracy: 0.8581 - 9s/epoch - 24ms/step\n",
            "Epoch 44/100\n",
            "354/354 - 9s - loss: 0.5449 - accuracy: 0.8659 - 9s/epoch - 25ms/step\n",
            "Epoch 45/100\n",
            "354/354 - 9s - loss: 0.5420 - accuracy: 0.8639 - 9s/epoch - 26ms/step\n",
            "Epoch 46/100\n",
            "354/354 - 9s - loss: 0.6135 - accuracy: 0.8454 - 9s/epoch - 25ms/step\n",
            "Epoch 47/100\n",
            "354/354 - 9s - loss: 0.6274 - accuracy: 0.8387 - 9s/epoch - 25ms/step\n",
            "Epoch 48/100\n",
            "354/354 - 9s - loss: 0.5745 - accuracy: 0.8504 - 9s/epoch - 25ms/step\n",
            "Epoch 49/100\n",
            "354/354 - 9s - loss: 0.4923 - accuracy: 0.8820 - 9s/epoch - 24ms/step\n",
            "Epoch 50/100\n",
            "354/354 - 9s - loss: 0.4679 - accuracy: 0.8875 - 9s/epoch - 24ms/step\n",
            "Epoch 51/100\n",
            "354/354 - 9s - loss: 0.4812 - accuracy: 0.8832 - 9s/epoch - 24ms/step\n",
            "Epoch 52/100\n",
            "354/354 - 9s - loss: 0.5234 - accuracy: 0.8723 - 9s/epoch - 25ms/step\n",
            "Epoch 53/100\n",
            "354/354 - 9s - loss: 0.5862 - accuracy: 0.8462 - 9s/epoch - 24ms/step\n",
            "Epoch 54/100\n",
            "354/354 - 9s - loss: 0.5749 - accuracy: 0.8505 - 9s/epoch - 24ms/step\n",
            "Epoch 55/100\n",
            "354/354 - 9s - loss: 0.5526 - accuracy: 0.8592 - 9s/epoch - 24ms/step\n",
            "Epoch 56/100\n",
            "354/354 - 9s - loss: 0.5587 - accuracy: 0.8597 - 9s/epoch - 24ms/step\n",
            "Epoch 57/100\n",
            "354/354 - 9s - loss: 0.5760 - accuracy: 0.8510 - 9s/epoch - 24ms/step\n",
            "Epoch 58/100\n",
            "354/354 - 9s - loss: 0.5166 - accuracy: 0.8676 - 9s/epoch - 24ms/step\n",
            "Epoch 59/100\n",
            "354/354 - 9s - loss: 0.4713 - accuracy: 0.8852 - 9s/epoch - 25ms/step\n",
            "Epoch 60/100\n",
            "354/354 - 9s - loss: 0.4768 - accuracy: 0.8857 - 9s/epoch - 24ms/step\n",
            "Epoch 61/100\n",
            "354/354 - 9s - loss: 0.5143 - accuracy: 0.8729 - 9s/epoch - 24ms/step\n",
            "Epoch 62/100\n",
            "354/354 - 9s - loss: 0.5657 - accuracy: 0.8542 - 9s/epoch - 24ms/step\n",
            "Epoch 63/100\n",
            "354/354 - 9s - loss: 0.5445 - accuracy: 0.8613 - 9s/epoch - 24ms/step\n",
            "Epoch 64/100\n",
            "354/354 - 9s - loss: 0.5130 - accuracy: 0.8705 - 9s/epoch - 24ms/step\n",
            "Epoch 65/100\n",
            "354/354 - 9s - loss: 0.5032 - accuracy: 0.8722 - 9s/epoch - 24ms/step\n",
            "Epoch 66/100\n",
            "354/354 - 9s - loss: 0.4916 - accuracy: 0.8792 - 9s/epoch - 24ms/step\n",
            "Epoch 67/100\n",
            "354/354 - 9s - loss: 0.4797 - accuracy: 0.8823 - 9s/epoch - 24ms/step\n",
            "Epoch 68/100\n",
            "354/354 - 9s - loss: 0.4801 - accuracy: 0.8790 - 9s/epoch - 24ms/step\n",
            "Epoch 69/100\n",
            "354/354 - 9s - loss: 0.5166 - accuracy: 0.8685 - 9s/epoch - 24ms/step\n",
            "Epoch 70/100\n",
            "354/354 - 9s - loss: 0.5385 - accuracy: 0.8621 - 9s/epoch - 24ms/step\n",
            "Epoch 71/100\n",
            "354/354 - 9s - loss: 0.5035 - accuracy: 0.8742 - 9s/epoch - 24ms/step\n",
            "Epoch 72/100\n",
            "354/354 - 9s - loss: 0.4970 - accuracy: 0.8750 - 9s/epoch - 24ms/step\n",
            "Epoch 73/100\n",
            "354/354 - 9s - loss: 0.4722 - accuracy: 0.8837 - 9s/epoch - 24ms/step\n",
            "Epoch 74/100\n",
            "354/354 - 9s - loss: 0.4525 - accuracy: 0.8875 - 9s/epoch - 24ms/step\n",
            "Epoch 75/100\n",
            "354/354 - 9s - loss: 0.4606 - accuracy: 0.8861 - 9s/epoch - 24ms/step\n",
            "Epoch 76/100\n",
            "354/354 - 9s - loss: 0.4606 - accuracy: 0.8862 - 9s/epoch - 24ms/step\n",
            "Epoch 77/100\n",
            "354/354 - 9s - loss: 0.4582 - accuracy: 0.8872 - 9s/epoch - 24ms/step\n",
            "Epoch 78/100\n",
            "354/354 - 9s - loss: 0.5599 - accuracy: 0.8542 - 9s/epoch - 24ms/step\n",
            "Epoch 79/100\n",
            "354/354 - 9s - loss: 0.5444 - accuracy: 0.8572 - 9s/epoch - 25ms/step\n",
            "Epoch 80/100\n",
            "354/354 - 9s - loss: 0.4678 - accuracy: 0.8802 - 9s/epoch - 24ms/step\n",
            "Epoch 81/100\n",
            "354/354 - 8s - loss: 0.4214 - accuracy: 0.8969 - 8s/epoch - 24ms/step\n",
            "Epoch 82/100\n",
            "354/354 - 9s - loss: 0.4208 - accuracy: 0.8979 - 9s/epoch - 24ms/step\n",
            "Epoch 83/100\n",
            "354/354 - 9s - loss: 0.4263 - accuracy: 0.8956 - 9s/epoch - 24ms/step\n",
            "Epoch 84/100\n",
            "354/354 - 8s - loss: 0.3997 - accuracy: 0.9019 - 8s/epoch - 24ms/step\n",
            "Epoch 85/100\n",
            "354/354 - 8s - loss: 0.4780 - accuracy: 0.8820 - 8s/epoch - 24ms/step\n",
            "Epoch 86/100\n",
            "354/354 - 9s - loss: 0.4992 - accuracy: 0.8693 - 9s/epoch - 24ms/step\n",
            "Epoch 87/100\n",
            "354/354 - 8s - loss: 0.4899 - accuracy: 0.8746 - 8s/epoch - 24ms/step\n",
            "Epoch 88/100\n",
            "354/354 - 8s - loss: 0.4715 - accuracy: 0.8778 - 8s/epoch - 24ms/step\n",
            "Epoch 89/100\n",
            "354/354 - 8s - loss: 0.4251 - accuracy: 0.8916 - 8s/epoch - 24ms/step\n",
            "Epoch 90/100\n",
            "354/354 - 9s - loss: 0.4130 - accuracy: 0.9005 - 9s/epoch - 24ms/step\n",
            "Epoch 91/100\n",
            "354/354 - 8s - loss: 0.4158 - accuracy: 0.8973 - 8s/epoch - 24ms/step\n",
            "Epoch 92/100\n",
            "354/354 - 8s - loss: 0.4338 - accuracy: 0.8902 - 8s/epoch - 24ms/step\n",
            "Epoch 93/100\n",
            "354/354 - 8s - loss: 0.4142 - accuracy: 0.8961 - 8s/epoch - 24ms/step\n",
            "Epoch 94/100\n",
            "354/354 - 8s - loss: 0.4050 - accuracy: 0.9008 - 8s/epoch - 24ms/step\n",
            "Epoch 95/100\n",
            "354/354 - 9s - loss: 0.4591 - accuracy: 0.8821 - 9s/epoch - 24ms/step\n",
            "Epoch 96/100\n",
            "354/354 - 9s - loss: 0.4657 - accuracy: 0.8820 - 9s/epoch - 24ms/step\n",
            "Epoch 97/100\n",
            "354/354 - 8s - loss: 0.4409 - accuracy: 0.8904 - 8s/epoch - 24ms/step\n",
            "Epoch 98/100\n",
            "354/354 - 8s - loss: 0.4276 - accuracy: 0.8920 - 8s/epoch - 24ms/step\n",
            "Epoch 99/100\n",
            "354/354 - 8s - loss: 0.4155 - accuracy: 0.8966 - 8s/epoch - 24ms/step\n",
            "Epoch 100/100\n",
            "354/354 - 8s - loss: 0.4193 - accuracy: 0.8949 - 8s/epoch - 24ms/step\n"
          ]
        },
        {
          "output_type": "execute_result",
          "data": {
            "text/plain": [
              "<keras.callbacks.History at 0x7f3b0c1d5350>"
            ]
          },
          "metadata": {},
          "execution_count": 47
        }
      ]
    },
    {
      "cell_type": "code",
      "source": [
        "model.save('mobydic_model.h5')\n",
        "num_gen_words = 80\n",
        "n = np.random.randint(0, len(text_sequences))\n",
        "generate_text(model, tokenizer, seq_len, ' '.join(text_sequences[n]), num_gen_words)"
      ],
      "metadata": {
        "colab": {
          "base_uri": "https://localhost:8080/",
          "height": 122
        },
        "id": "0qYJtC2bXCsH",
        "outputId": "9ff287b2-573a-4627-b559-a9a6475bf140"
      },
      "execution_count": 49,
      "outputs": [
        {
          "output_type": "execute_result",
          "data": {
            "text/plain": [
              "\"a mind was concerned he sell to him i'm sleep crush himself on the corn cob of in scores but jump at unlacing the light monday sleep sick queequeg horn or sadly abreast out in a bit of mirror there of making getting presently as the forlorn room i then placed they for curious an guttural place with so bitter all up well that the terrible persians however the stranger and the third building i lay off what then there\""
            ],
            "application/vnd.google.colaboratory.intrinsic+json": {
              "type": "string"
            }
          },
          "metadata": {},
          "execution_count": 49
        }
      ]
    },
    {
      "cell_type": "code",
      "source": [
        ""
      ],
      "metadata": {
        "id": "SeZNQDatac3_"
      },
      "execution_count": null,
      "outputs": []
    }
  ]
}