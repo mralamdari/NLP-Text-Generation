{
  "nbformat": 4,
  "nbformat_minor": 0,
  "metadata": {
    "colab": {
      "name": "NLP-Text-Generation.ipynb",
      "provenance": [],
      "collapsed_sections": [],
      "authorship_tag": "ABX9TyMK1vZHV2NeYeNmu5Q7MMR3",
      "include_colab_link": true
    },
    "kernelspec": {
      "name": "python3",
      "display_name": "Python 3"
    },
    "language_info": {
      "name": "python"
    }
  },
  "cells": [
    {
      "cell_type": "markdown",
      "metadata": {
        "id": "view-in-github",
        "colab_type": "text"
      },
      "source": [
        "<a href=\"https://colab.research.google.com/github/mr-alamdari/NLP-Text-Generation/blob/main/NLP_Text_Generation.ipynb\" target=\"_parent\"><img src=\"https://colab.research.google.com/assets/colab-badge.svg\" alt=\"Open In Colab\"/></a>"
      ]
    },
    {
      "cell_type": "code",
      "execution_count": 2,
      "metadata": {
        "id": "RI_jcozpCSkG"
      },
      "outputs": [],
      "source": [
        "import numpy as np\n",
        "import spacy"
      ]
    },
    {
      "cell_type": "code",
      "source": [
        "def read_file(path):\n",
        "  with open(path) as f:\n",
        "    my_str = f.read()\n",
        "  return my_str"
      ],
      "metadata": {
        "id": "tXbO-eV8DTlE"
      },
      "execution_count": 3,
      "outputs": []
    },
    {
      "cell_type": "code",
      "source": [
        "!wget https://raw.githubusercontent.com/mr-alamdari/NLP-Text-Generation/main/moby_dick_four_chapters.txt"
      ],
      "metadata": {
        "colab": {
          "base_uri": "https://localhost:8080/"
        },
        "id": "APaNWzndLmWz",
        "outputId": "0d3533d6-58b7-4e6c-a825-6b45caf8e433"
      },
      "execution_count": 4,
      "outputs": [
        {
          "output_type": "stream",
          "name": "stdout",
          "text": [
            "--2022-05-01 16:45:38--  https://raw.githubusercontent.com/mr-alamdari/NLP-Text-Generation/main/moby_dick_four_chapters.txt\n",
            "Resolving raw.githubusercontent.com (raw.githubusercontent.com)... 185.199.108.133, 185.199.111.133, 185.199.109.133, ...\n",
            "Connecting to raw.githubusercontent.com (raw.githubusercontent.com)|185.199.108.133|:443... connected.\n",
            "HTTP request sent, awaiting response... 200 OK\n",
            "Length: 62685 (61K) [text/plain]\n",
            "Saving to: ‘moby_dick_four_chapters.txt’\n",
            "\n",
            "\r          moby_dick   0%[                    ]       0  --.-KB/s               \rmoby_dick_four_chap 100%[===================>]  61.22K  --.-KB/s    in 0.01s   \n",
            "\n",
            "2022-05-01 16:45:38 (5.27 MB/s) - ‘moby_dick_four_chapters.txt’ saved [62685/62685]\n",
            "\n"
          ]
        }
      ]
    },
    {
      "cell_type": "code",
      "source": [
        "mobydic = read_file('moby_dick_four_chapters.txt')"
      ],
      "metadata": {
        "id": "cAHX5_zpMHcR"
      },
      "execution_count": 5,
      "outputs": []
    },
    {
      "cell_type": "code",
      "source": [
        "nlp = spacy.load('en', disable=['parser', 'tagger', 'ner'])"
      ],
      "metadata": {
        "id": "86o5KMUtMMU9"
      },
      "execution_count": 6,
      "outputs": []
    },
    {
      "cell_type": "code",
      "source": [
        "nlp.max_length = 1198623"
      ],
      "metadata": {
        "id": "haHP59oAMaxi"
      },
      "execution_count": 7,
      "outputs": []
    },
    {
      "cell_type": "code",
      "source": [
        "seperate_punc = lambda doc: [token.text.lower() for token in nlp(doc) if token.text not in '\\n\\n \\n\\n\\n!\"-#$%&()--.*+,-/:;<=>?@[\\\\]^_`{|}~\\t\\n']"
      ],
      "metadata": {
        "id": "qJeXlTZqMfQ5"
      },
      "execution_count": 8,
      "outputs": []
    },
    {
      "cell_type": "code",
      "source": [
        "tokens = seperate_punc(mobydic)"
      ],
      "metadata": {
        "id": "fd8pOF7tNJ2i"
      },
      "execution_count": 9,
      "outputs": []
    },
    {
      "cell_type": "code",
      "source": [
        "tokens[:20]"
      ],
      "metadata": {
        "colab": {
          "base_uri": "https://localhost:8080/"
        },
        "id": "Xr6zfeu4OR1F",
        "outputId": "a61944bd-a768-4be2-eaa6-dee8875e7799"
      },
      "execution_count": 10,
      "outputs": [
        {
          "output_type": "execute_result",
          "data": {
            "text/plain": [
              "['call',\n",
              " 'me',\n",
              " 'ishmael',\n",
              " 'some',\n",
              " 'years',\n",
              " 'ago',\n",
              " 'never',\n",
              " 'mind',\n",
              " 'how',\n",
              " 'long',\n",
              " 'precisely',\n",
              " 'having',\n",
              " 'little',\n",
              " 'or',\n",
              " 'no',\n",
              " 'money',\n",
              " 'in',\n",
              " 'my',\n",
              " 'purse',\n",
              " 'and']"
            ]
          },
          "metadata": {},
          "execution_count": 10
        }
      ]
    },
    {
      "cell_type": "code",
      "source": [
        "len(tokens)"
      ],
      "metadata": {
        "colab": {
          "base_uri": "https://localhost:8080/"
        },
        "id": "lVAMB0NxOXbP",
        "outputId": "29a861ab-4b34-4b40-f761-c5bae03159f4"
      },
      "execution_count": 11,
      "outputs": [
        {
          "output_type": "execute_result",
          "data": {
            "text/plain": [
              "11338"
            ]
          },
          "metadata": {},
          "execution_count": 11
        }
      ]
    },
    {
      "cell_type": "code",
      "source": [
        "train_len = 25 + 1 # 25 training words , then one target word\n",
        "\n",
        "text_sequences = [tokens[i-train_len: i] for i in range(train_len, len(tokens))]"
      ],
      "metadata": {
        "id": "XL8YjU2COZSH"
      },
      "execution_count": 12,
      "outputs": []
    },
    {
      "cell_type": "code",
      "source": [
        "' '.join(text_sequences[0])"
      ],
      "metadata": {
        "colab": {
          "base_uri": "https://localhost:8080/",
          "height": 53
        },
        "id": "Y0v8PDafPPqj",
        "outputId": "1969470b-a803-4368-c7dc-8569bcab555e"
      },
      "execution_count": 13,
      "outputs": [
        {
          "output_type": "execute_result",
          "data": {
            "text/plain": [
              "'call me ishmael some years ago never mind how long precisely having little or no money in my purse and nothing particular to interest me on'"
            ],
            "application/vnd.google.colaboratory.intrinsic+json": {
              "type": "string"
            }
          },
          "metadata": {},
          "execution_count": 13
        }
      ]
    },
    {
      "cell_type": "code",
      "source": [
        "' '.join(text_sequences[1])"
      ],
      "metadata": {
        "colab": {
          "base_uri": "https://localhost:8080/",
          "height": 53
        },
        "id": "jUXGwHtdPS9v",
        "outputId": "4c136fc7-9776-489f-8452-5886983533fb"
      },
      "execution_count": 14,
      "outputs": [
        {
          "output_type": "execute_result",
          "data": {
            "text/plain": [
              "'me ishmael some years ago never mind how long precisely having little or no money in my purse and nothing particular to interest me on shore'"
            ],
            "application/vnd.google.colaboratory.intrinsic+json": {
              "type": "string"
            }
          },
          "metadata": {},
          "execution_count": 14
        }
      ]
    },
    {
      "cell_type": "code",
      "source": [
        "' '.join(text_sequences[2])"
      ],
      "metadata": {
        "colab": {
          "base_uri": "https://localhost:8080/",
          "height": 53
        },
        "id": "t-y62vtIPVAu",
        "outputId": "16a08828-3d69-45b1-98ea-23077dace648"
      },
      "execution_count": 15,
      "outputs": [
        {
          "output_type": "execute_result",
          "data": {
            "text/plain": [
              "'ishmael some years ago never mind how long precisely having little or no money in my purse and nothing particular to interest me on shore i'"
            ],
            "application/vnd.google.colaboratory.intrinsic+json": {
              "type": "string"
            }
          },
          "metadata": {},
          "execution_count": 15
        }
      ]
    },
    {
      "cell_type": "code",
      "source": [
        "' '.join(text_sequences[3])"
      ],
      "metadata": {
        "colab": {
          "base_uri": "https://localhost:8080/",
          "height": 53
        },
        "id": "RtJ-Ma-CPWQm",
        "outputId": "d7cb28ec-9198-446c-8803-f49346545017"
      },
      "execution_count": 16,
      "outputs": [
        {
          "output_type": "execute_result",
          "data": {
            "text/plain": [
              "'some years ago never mind how long precisely having little or no money in my purse and nothing particular to interest me on shore i thought'"
            ],
            "application/vnd.google.colaboratory.intrinsic+json": {
              "type": "string"
            }
          },
          "metadata": {},
          "execution_count": 16
        }
      ]
    },
    {
      "cell_type": "code",
      "source": [
        "import tensorflow as tf"
      ],
      "metadata": {
        "id": "ZILcMszCPYGW"
      },
      "execution_count": 17,
      "outputs": []
    },
    {
      "cell_type": "code",
      "source": [
        "tokenizer = tf.keras.preprocessing.text.Tokenizer()"
      ],
      "metadata": {
        "id": "KzA8jCL1P1ND"
      },
      "execution_count": 18,
      "outputs": []
    },
    {
      "cell_type": "code",
      "source": [
        "tokenizer.fit_on_texts(text_sequences)"
      ],
      "metadata": {
        "id": "Ob0Vvjb6P7_c"
      },
      "execution_count": 19,
      "outputs": []
    },
    {
      "cell_type": "code",
      "source": [
        "sequences = tokenizer.texts_to_sequences(text_sequences)"
      ],
      "metadata": {
        "id": "0VkIxCAKQCOt"
      },
      "execution_count": 20,
      "outputs": []
    },
    {
      "cell_type": "code",
      "source": [
        "sequences = np.array(sequences)"
      ],
      "metadata": {
        "id": "E5wpsIKCSDtO"
      },
      "execution_count": 21,
      "outputs": []
    },
    {
      "cell_type": "code",
      "source": [
        "print(sequences[0])"
      ],
      "metadata": {
        "colab": {
          "base_uri": "https://localhost:8080/"
        },
        "id": "3V2xV_5VQKpD",
        "outputId": "c9faf097-ea25-486b-9c53-ed5af4ceb320"
      },
      "execution_count": 22,
      "outputs": [
        {
          "output_type": "stream",
          "name": "stdout",
          "text": [
            "[ 956   14  263   51  261  408   87  219  129  111  954  260   50   43\n",
            "   38  315    7   23  546    3  150  259    6 2712   14   24]\n"
          ]
        }
      ]
    },
    {
      "cell_type": "code",
      "source": [
        "print(sequences[1])"
      ],
      "metadata": {
        "colab": {
          "base_uri": "https://localhost:8080/"
        },
        "id": "dNDJsDy6QPtg",
        "outputId": "f7624b49-ccdd-4df2-f344-e824d2560b85"
      },
      "execution_count": 23,
      "outputs": [
        {
          "output_type": "stream",
          "name": "stdout",
          "text": [
            "[  14  263   51  261  408   87  219  129  111  954  260   50   43   38\n",
            "  315    7   23  546    3  150  259    6 2712   14   24  957]\n"
          ]
        }
      ]
    },
    {
      "cell_type": "code",
      "source": [
        "print(sequences[2])"
      ],
      "metadata": {
        "colab": {
          "base_uri": "https://localhost:8080/"
        },
        "id": "TdvYQNAJQZfy",
        "outputId": "97cb1783-2fa9-4db7-fee5-b5a44b930919"
      },
      "execution_count": 24,
      "outputs": [
        {
          "output_type": "stream",
          "name": "stdout",
          "text": [
            "[ 263   51  261  408   87  219  129  111  954  260   50   43   38  315\n",
            "    7   23  546    3  150  259    6 2712   14   24  957    5]\n"
          ]
        }
      ]
    },
    {
      "cell_type": "code",
      "source": [
        "print(sequences[3])"
      ],
      "metadata": {
        "colab": {
          "base_uri": "https://localhost:8080/"
        },
        "id": "Gcp9dZBlQhF_",
        "outputId": "b3666409-8ae5-4111-c040-87e3367051fa"
      },
      "execution_count": 25,
      "outputs": [
        {
          "output_type": "stream",
          "name": "stdout",
          "text": [
            "[  51  261  408   87  219  129  111  954  260   50   43   38  315    7\n",
            "   23  546    3  150  259    6 2712   14   24  957    5   60]\n"
          ]
        }
      ]
    },
    {
      "cell_type": "code",
      "source": [
        "for i in sequences[0]:\n",
        "  print(i, tokenizer.index_word[i])"
      ],
      "metadata": {
        "colab": {
          "base_uri": "https://localhost:8080/"
        },
        "id": "Hn7ThErxQiE3",
        "outputId": "259ae870-440b-495c-b3e3-ee651807b92a"
      },
      "execution_count": 26,
      "outputs": [
        {
          "output_type": "stream",
          "name": "stdout",
          "text": [
            "956 call\n",
            "14 me\n",
            "263 ishmael\n",
            "51 some\n",
            "261 years\n",
            "408 ago\n",
            "87 never\n",
            "219 mind\n",
            "129 how\n",
            "111 long\n",
            "954 precisely\n",
            "260 having\n",
            "50 little\n",
            "43 or\n",
            "38 no\n",
            "315 money\n",
            "7 in\n",
            "23 my\n",
            "546 purse\n",
            "3 and\n",
            "150 nothing\n",
            "259 particular\n",
            "6 to\n",
            "2712 interest\n",
            "14 me\n",
            "24 on\n"
          ]
        }
      ]
    },
    {
      "cell_type": "code",
      "source": [
        "for i, count in enumerate(sorted(tokenizer.word_counts.items(), key=lambda x: -x[1])):\n",
        "  if i == 20:\n",
        "    break\n",
        "  print(i, count)"
      ],
      "metadata": {
        "colab": {
          "base_uri": "https://localhost:8080/"
        },
        "id": "S9h2BpwSQkJP",
        "outputId": "e30e3aa8-fcd9-4579-9989-47800ff277ca"
      },
      "execution_count": 27,
      "outputs": [
        {
          "output_type": "stream",
          "name": "stdout",
          "text": [
            "0 ('the', 15540)\n",
            "1 ('a', 10377)\n",
            "2 ('and', 9646)\n",
            "3 ('of', 8287)\n",
            "4 ('i', 7150)\n",
            "5 ('to', 6497)\n",
            "6 ('in', 5647)\n",
            "7 ('it', 4238)\n",
            "8 ('that', 3770)\n",
            "9 ('he', 3247)\n",
            "10 ('his', 3139)\n",
            "11 ('was', 2886)\n",
            "12 ('but', 2652)\n",
            "13 ('me', 2471)\n",
            "14 ('with', 2392)\n",
            "15 ('as', 2366)\n",
            "16 ('at', 2184)\n",
            "17 ('this', 2158)\n",
            "18 ('you', 2158)\n",
            "19 ('is', 1950)\n"
          ]
        }
      ]
    },
    {
      "cell_type": "code",
      "source": [
        "vocab_size=len(tokenizer.word_counts)"
      ],
      "metadata": {
        "id": "evu-ezjARN85"
      },
      "execution_count": 28,
      "outputs": []
    },
    {
      "cell_type": "code",
      "source": [
        "vocab_size"
      ],
      "metadata": {
        "colab": {
          "base_uri": "https://localhost:8080/"
        },
        "id": "bcNKQxuoR8vi",
        "outputId": "5ab86390-7603-4c2f-d863-ad870abf4d68"
      },
      "execution_count": 29,
      "outputs": [
        {
          "output_type": "execute_result",
          "data": {
            "text/plain": [
              "2717"
            ]
          },
          "metadata": {},
          "execution_count": 29
        }
      ]
    },
    {
      "cell_type": "code",
      "source": [
        "x = sequences[:, :-1]"
      ],
      "metadata": {
        "id": "xfuppMV4hD6r"
      },
      "execution_count": 32,
      "outputs": []
    },
    {
      "cell_type": "code",
      "source": [
        "y = sequences[:, -1]"
      ],
      "metadata": {
        "id": "4teFrSvshGrr"
      },
      "execution_count": 33,
      "outputs": []
    },
    {
      "cell_type": "code",
      "source": [
        "y = tf.keras.utils.to_categorical(y, num_classes=vocab_size+1)"
      ],
      "metadata": {
        "id": "eckFK4icR9sz"
      },
      "execution_count": 34,
      "outputs": []
    },
    {
      "cell_type": "code",
      "source": [
        "seq_len = x.shape[1]"
      ],
      "metadata": {
        "id": "xwmmMyiMhM57"
      },
      "execution_count": 35,
      "outputs": []
    },
    {
      "cell_type": "code",
      "source": [
        "def create_model(vocab_size, seq_len):\n",
        "  model = tf.keras.models.Sequential()\n",
        "  model.add(tf.keras.layers.Embedding(vocab_size, seq_len, input_length=seq_len))\n",
        "  model.add(tf.keras.layers.LSTM(seq_len, return_sequences=True))\n",
        "  model.add(tf.keras.layers.LSTM(seq_len))\n",
        "  model.add(tf.keras.layers.Dense(seq_len, activation='relu'))\n",
        "  model.add(tf.keras.layers.Dense(vocab_size, activation='softmax'))\n",
        "  model.compile(loss='categorical_crossentropy',\n",
        "                optimizer = 'adam',\n",
        "                metrics = ['accuracy'])\n",
        "\n",
        "  model.summary()\n",
        "  return model"
      ],
      "metadata": {
        "id": "aFkT3a2mhYwu"
      },
      "execution_count": 45,
      "outputs": []
    },
    {
      "cell_type": "code",
      "source": [
        "model = create_model(vocab_size+1, seq_len)"
      ],
      "metadata": {
        "colab": {
          "base_uri": "https://localhost:8080/"
        },
        "id": "zMsPblA2ijXA",
        "outputId": "805cc063-2034-4436-ac1a-fee2ee60f2fc"
      },
      "execution_count": 48,
      "outputs": [
        {
          "output_type": "stream",
          "name": "stdout",
          "text": [
            "Model: \"sequential_4\"\n",
            "_________________________________________________________________\n",
            " Layer (type)                Output Shape              Param #   \n",
            "=================================================================\n",
            " embedding_2 (Embedding)     (None, 25, 25)            67950     \n",
            "                                                                 \n",
            " lstm_4 (LSTM)               (None, 25, 25)            5100      \n",
            "                                                                 \n",
            " lstm_5 (LSTM)               (None, 25)                5100      \n",
            "                                                                 \n",
            " dense_4 (Dense)             (None, 25)                650       \n",
            "                                                                 \n",
            " dense_5 (Dense)             (None, 2718)              70668     \n",
            "                                                                 \n",
            "=================================================================\n",
            "Total params: 149,468\n",
            "Trainable params: 149,468\n",
            "Non-trainable params: 0\n",
            "_________________________________________________________________\n"
          ]
        }
      ]
    },
    {
      "cell_type": "code",
      "source": [
        "from pickle import dump, load"
      ],
      "metadata": {
        "id": "vHmiENS8in9p"
      },
      "execution_count": 49,
      "outputs": []
    },
    {
      "cell_type": "code",
      "source": [
        "model.fit(x, y, batch_size=128, epochs=10, verbose=2)"
      ],
      "metadata": {
        "colab": {
          "base_uri": "https://localhost:8080/"
        },
        "id": "5awVfQddjAuo",
        "outputId": "7309ab86-beba-4333-c489-3dee63b19fac"
      },
      "execution_count": 53,
      "outputs": [
        {
          "output_type": "stream",
          "name": "stdout",
          "text": [
            "Epoch 1/10\n",
            "89/89 - 3s - loss: 6.3339 - accuracy: 0.0529 - 3s/epoch - 39ms/step\n",
            "Epoch 2/10\n",
            "89/89 - 3s - loss: 6.3102 - accuracy: 0.0529 - 3s/epoch - 39ms/step\n",
            "Epoch 3/10\n",
            "89/89 - 3s - loss: 6.2222 - accuracy: 0.0529 - 3s/epoch - 38ms/step\n",
            "Epoch 4/10\n",
            "89/89 - 3s - loss: 6.1411 - accuracy: 0.0529 - 3s/epoch - 38ms/step\n",
            "Epoch 5/10\n",
            "89/89 - 3s - loss: 6.0988 - accuracy: 0.0529 - 3s/epoch - 38ms/step\n",
            "Epoch 6/10\n",
            "89/89 - 3s - loss: 6.0703 - accuracy: 0.0529 - 3s/epoch - 38ms/step\n",
            "Epoch 7/10\n",
            "89/89 - 4s - loss: 6.0488 - accuracy: 0.0529 - 4s/epoch - 44ms/step\n",
            "Epoch 8/10\n",
            "89/89 - 4s - loss: 6.0273 - accuracy: 0.0537 - 4s/epoch - 44ms/step\n",
            "Epoch 9/10\n",
            "89/89 - 3s - loss: 5.9862 - accuracy: 0.0559 - 3s/epoch - 39ms/step\n",
            "Epoch 10/10\n",
            "89/89 - 3s - loss: 5.9406 - accuracy: 0.0574 - 3s/epoch - 38ms/step\n"
          ]
        },
        {
          "output_type": "execute_result",
          "data": {
            "text/plain": [
              "<keras.callbacks.History at 0x7f3af13981d0>"
            ]
          },
          "metadata": {},
          "execution_count": 53
        }
      ]
    },
    {
      "cell_type": "code",
      "source": [
        "model.save('mobydic_model.h5')"
      ],
      "metadata": {
        "id": "rO-bgPG-jI1g"
      },
      "execution_count": 54,
      "outputs": []
    },
    {
      "cell_type": "code",
      "source": [
        "dump(tokenizer, open('simpleTokenizer', 'wb'))"
      ],
      "metadata": {
        "id": "SnM6PofKjVhv"
      },
      "execution_count": 55,
      "outputs": []
    },
    {
      "cell_type": "code",
      "source": [
        "def generate_text(model, tokenizer, seq_len, seed_text, num_gen_words):\n",
        "  output_text = []\n",
        "  input_text = seed_text\n",
        "  for i in range(num_gen_words):\n",
        "    encoded_text = tokenizer.texts_to_sequences([input_text])[0]\n",
        "    pad_encoded = tf.keras.preprocessing.sequence.pad_sequences([encoded_text], maxlen=seq_len, truncating='pre')\n",
        "    pred_word = model.predict(pad_encoded, verbose=0)[0]\n",
        "    pred_word_ind = np.argmax(pred_word)\n",
        "    pred_word = tokenizer.index_word[pred_word_ind]\n",
        "    input_text += ' '+pred_word\n",
        "    output_text.append(pred_word)\n",
        "  return ' '.join(output_text)"
      ],
      "metadata": {
        "id": "fsevAqi8jbwT"
      },
      "execution_count": 68,
      "outputs": []
    },
    {
      "cell_type": "code",
      "source": [
        "num_gen_words = 20\n",
        "n = np.random.randint(0, len(text_sequences))\n",
        "generate_text(model, tokenizer, seq_len, ' '.join(text_sequences[n]), num_gen_words)"
      ],
      "metadata": {
        "colab": {
          "base_uri": "https://localhost:8080/",
          "height": 35
        },
        "id": "tu_qGhvHlU5t",
        "outputId": "7e960eab-b507-454b-8147-eaf0b453b182"
      },
      "execution_count": 69,
      "outputs": [
        {
          "output_type": "execute_result",
          "data": {
            "text/plain": [
              "'the the the the the the the the the the the the the the the the the the the the'"
            ],
            "application/vnd.google.colaboratory.intrinsic+json": {
              "type": "string"
            }
          },
          "metadata": {},
          "execution_count": 69
        }
      ]
    },
    {
      "cell_type": "code",
      "source": [
        ""
      ],
      "metadata": {
        "id": "4tPNd99hlx8r"
      },
      "execution_count": null,
      "outputs": []
    }
  ]
}